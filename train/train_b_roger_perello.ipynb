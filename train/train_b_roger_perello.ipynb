{
 "cells": [
  {
   "attachments": {},
   "cell_type": "markdown",
   "metadata": {},
   "source": [
    "# Importaciones"
   ]
  },
  {
   "cell_type": "code",
   "execution_count": 1,
   "metadata": {},
   "outputs": [],
   "source": [
    "import pandas as pd\n",
    "import matplotlib.pyplot as plt\n",
    "import seaborn as sns\n"
   ]
  },
  {
   "cell_type": "code",
   "execution_count": 2,
   "metadata": {},
   "outputs": [],
   "source": [
    "df_train_b = pd.read_csv('train_b.csv')\n"
   ]
  },
  {
   "attachments": {},
   "cell_type": "markdown",
   "metadata": {},
   "source": [
    "# Observación inicial"
   ]
  },
  {
   "cell_type": "code",
   "execution_count": 3,
   "metadata": {},
   "outputs": [
    {
     "data": {
      "text/html": [
       "<div>\n",
       "<style scoped>\n",
       "    .dataframe tbody tr th:only-of-type {\n",
       "        vertical-align: middle;\n",
       "    }\n",
       "\n",
       "    .dataframe tbody tr th {\n",
       "        vertical-align: top;\n",
       "    }\n",
       "\n",
       "    .dataframe thead th {\n",
       "        text-align: right;\n",
       "    }\n",
       "</style>\n",
       "<table border=\"1\" class=\"dataframe\">\n",
       "  <thead>\n",
       "    <tr style=\"text-align: right;\">\n",
       "      <th></th>\n",
       "      <th>Id</th>\n",
       "      <th>SeriousDlqin2yrs</th>\n",
       "      <th>RevolvingUtilizationOfUnsecuredLines</th>\n",
       "      <th>age</th>\n",
       "      <th>NumberOfTime30-59DaysPastDueNotWorse</th>\n",
       "      <th>DebtRatio</th>\n",
       "      <th>MonthlyIncome</th>\n",
       "      <th>NumberOfOpenCreditLinesAndLoans</th>\n",
       "      <th>NumberOfTimes90DaysLate</th>\n",
       "      <th>NumberRealEstateLoansOrLines</th>\n",
       "      <th>NumberOfTime60-89DaysPastDueNotWorse</th>\n",
       "      <th>NumberOfDependents</th>\n",
       "    </tr>\n",
       "  </thead>\n",
       "  <tbody>\n",
       "    <tr>\n",
       "      <th>0</th>\n",
       "      <td>79740</td>\n",
       "      <td>0</td>\n",
       "      <td>0.146563</td>\n",
       "      <td>57y</td>\n",
       "      <td>0</td>\n",
       "      <td>443.000000</td>\n",
       "      <td>NaN</td>\n",
       "      <td>3</td>\n",
       "      <td>0</td>\n",
       "      <td>0</td>\n",
       "      <td>0</td>\n",
       "      <td>0.0</td>\n",
       "    </tr>\n",
       "    <tr>\n",
       "      <th>1</th>\n",
       "      <td>30558</td>\n",
       "      <td>0</td>\n",
       "      <td>0.054405</td>\n",
       "      <td>36y</td>\n",
       "      <td>0</td>\n",
       "      <td>2266.000000</td>\n",
       "      <td>NaN</td>\n",
       "      <td>5</td>\n",
       "      <td>0</td>\n",
       "      <td>1</td>\n",
       "      <td>0</td>\n",
       "      <td>NaN</td>\n",
       "    </tr>\n",
       "    <tr>\n",
       "      <th>2</th>\n",
       "      <td>1410</td>\n",
       "      <td>0</td>\n",
       "      <td>0.103319</td>\n",
       "      <td>84y</td>\n",
       "      <td>0</td>\n",
       "      <td>0.278180</td>\n",
       "      <td>4000.0</td>\n",
       "      <td>12</td>\n",
       "      <td>0</td>\n",
       "      <td>0</td>\n",
       "      <td>0</td>\n",
       "      <td>0.0</td>\n",
       "    </tr>\n",
       "    <tr>\n",
       "      <th>3</th>\n",
       "      <td>57097</td>\n",
       "      <td>1</td>\n",
       "      <td>0.147705</td>\n",
       "      <td>25y</td>\n",
       "      <td>2</td>\n",
       "      <td>0.098451</td>\n",
       "      <td>2000.0</td>\n",
       "      <td>2</td>\n",
       "      <td>3</td>\n",
       "      <td>0</td>\n",
       "      <td>0</td>\n",
       "      <td>1.0</td>\n",
       "    </tr>\n",
       "    <tr>\n",
       "      <th>4</th>\n",
       "      <td>2766</td>\n",
       "      <td>1</td>\n",
       "      <td>0.995003</td>\n",
       "      <td>30y</td>\n",
       "      <td>1</td>\n",
       "      <td>0.176956</td>\n",
       "      <td>4000.0</td>\n",
       "      <td>3</td>\n",
       "      <td>10</td>\n",
       "      <td>0</td>\n",
       "      <td>0</td>\n",
       "      <td>0.0</td>\n",
       "    </tr>\n",
       "  </tbody>\n",
       "</table>\n",
       "</div>"
      ],
      "text/plain": [
       "      Id  SeriousDlqin2yrs  RevolvingUtilizationOfUnsecuredLines  age  \\\n",
       "0  79740                 0                              0.146563  57y   \n",
       "1  30558                 0                              0.054405  36y   \n",
       "2   1410                 0                              0.103319  84y   \n",
       "3  57097                 1                              0.147705  25y   \n",
       "4   2766                 1                              0.995003  30y   \n",
       "\n",
       "   NumberOfTime30-59DaysPastDueNotWorse    DebtRatio  MonthlyIncome  \\\n",
       "0                                     0   443.000000            NaN   \n",
       "1                                     0  2266.000000            NaN   \n",
       "2                                     0     0.278180         4000.0   \n",
       "3                                     2     0.098451         2000.0   \n",
       "4                                     1     0.176956         4000.0   \n",
       "\n",
       "   NumberOfOpenCreditLinesAndLoans  NumberOfTimes90DaysLate  \\\n",
       "0                                3                        0   \n",
       "1                                5                        0   \n",
       "2                               12                        0   \n",
       "3                                2                        3   \n",
       "4                                3                       10   \n",
       "\n",
       "   NumberRealEstateLoansOrLines  NumberOfTime60-89DaysPastDueNotWorse  \\\n",
       "0                             0                                     0   \n",
       "1                             1                                     0   \n",
       "2                             0                                     0   \n",
       "3                             0                                     0   \n",
       "4                             0                                     0   \n",
       "\n",
       "   NumberOfDependents  \n",
       "0                 0.0  \n",
       "1                 NaN  \n",
       "2                 0.0  \n",
       "3                 1.0  \n",
       "4                 0.0  "
      ]
     },
     "execution_count": 3,
     "metadata": {},
     "output_type": "execute_result"
    }
   ],
   "source": [
    "df_train_b.head()\n"
   ]
  },
  {
   "cell_type": "code",
   "execution_count": 4,
   "metadata": {},
   "outputs": [
    {
     "name": "stdout",
     "output_type": "stream",
     "text": [
      "<class 'pandas.core.frame.DataFrame'>\n",
      "RangeIndex: 73363 entries, 0 to 73362\n",
      "Data columns (total 12 columns):\n",
      " #   Column                                Non-Null Count  Dtype  \n",
      "---  ------                                --------------  -----  \n",
      " 0   Id                                    73363 non-null  int64  \n",
      " 1   SeriousDlqin2yrs                      73363 non-null  int64  \n",
      " 2   RevolvingUtilizationOfUnsecuredLines  73363 non-null  float64\n",
      " 3   age                                   73363 non-null  object \n",
      " 4   NumberOfTime30-59DaysPastDueNotWorse  73363 non-null  int64  \n",
      " 5   DebtRatio                             73363 non-null  float64\n",
      " 6   MonthlyIncome                         58750 non-null  float64\n",
      " 7   NumberOfOpenCreditLinesAndLoans       73363 non-null  int64  \n",
      " 8   NumberOfTimes90DaysLate               73363 non-null  int64  \n",
      " 9   NumberRealEstateLoansOrLines          73363 non-null  int64  \n",
      " 10  NumberOfTime60-89DaysPastDueNotWorse  73363 non-null  int64  \n",
      " 11  NumberOfDependents                    71457 non-null  float64\n",
      "dtypes: float64(4), int64(7), object(1)\n",
      "memory usage: 6.7+ MB\n"
     ]
    }
   ],
   "source": [
    "df_train_b.info()\n"
   ]
  },
  {
   "cell_type": "code",
   "execution_count": 5,
   "metadata": {},
   "outputs": [],
   "source": [
    "# Los títulos de las columnas son ilegibles, así que empezamos por simplificarlos\n",
    "# Echamos un vistazo al kaggle para ver qué hace cada una: https://www.kaggle.com/code/caesarlupum/modeling-give-me-some-credit/notebook\n",
    "df_train_b = df_train_b.rename(columns={'Id': 'Person (ID)',\n",
    "                                        'SeriousDlqin2yrs': '+89 delinquency days in 2 years',\n",
    "                                        'RevolvingUtilizationOfUnsecuredLines': '% of revolving credit available used',\n",
    "                                        'age': 'Age (years)',\n",
    "                                        'NumberOfTime30-59DaysPastDueNotWorse': '30-59 delinquency days in 2 years',\n",
    "                                        'DebtRatio': 'Debt ratio',\n",
    "                                        'MonthlyIncome': 'Monthly income',\n",
    "                                        'NumberOfOpenCreditLinesAndLoans': 'Credit lines & loans',\n",
    "                                        'NumberOfTimes90DaysLate': '90 days payment delays',\n",
    "                                        'NumberRealEstateLoansOrLines': 'Real estate loans or lines',\n",
    "                                        'NumberOfTime60-89DaysPastDueNotWorse': '60-89 delinquency days in 2 years',\n",
    "                                        'NumberOfDependents': 'Dependents'\n",
    "                                        }\n",
    "                                )\n"
   ]
  },
  {
   "cell_type": "code",
   "execution_count": 6,
   "metadata": {},
   "outputs": [
    {
     "data": {
      "text/html": [
       "<div>\n",
       "<style scoped>\n",
       "    .dataframe tbody tr th:only-of-type {\n",
       "        vertical-align: middle;\n",
       "    }\n",
       "\n",
       "    .dataframe tbody tr th {\n",
       "        vertical-align: top;\n",
       "    }\n",
       "\n",
       "    .dataframe thead th {\n",
       "        text-align: right;\n",
       "    }\n",
       "</style>\n",
       "<table border=\"1\" class=\"dataframe\">\n",
       "  <thead>\n",
       "    <tr style=\"text-align: right;\">\n",
       "      <th></th>\n",
       "      <th>Person (ID)</th>\n",
       "      <th>+89 delinquency days in 2 years</th>\n",
       "      <th>% of revolving credit available used</th>\n",
       "      <th>Age (years)</th>\n",
       "      <th>30-59 delinquency days in 2 years</th>\n",
       "      <th>Debt ratio</th>\n",
       "      <th>Monthly income</th>\n",
       "      <th>Credit lines &amp; loans</th>\n",
       "      <th>90 days payment delays</th>\n",
       "      <th>Real estate loans or lines</th>\n",
       "      <th>60-89 delinquency days in 2 years</th>\n",
       "      <th>Dependents</th>\n",
       "    </tr>\n",
       "  </thead>\n",
       "  <tbody>\n",
       "    <tr>\n",
       "      <th>0</th>\n",
       "      <td>79740</td>\n",
       "      <td>0</td>\n",
       "      <td>0.146563</td>\n",
       "      <td>57y</td>\n",
       "      <td>0</td>\n",
       "      <td>443.000000</td>\n",
       "      <td>NaN</td>\n",
       "      <td>3</td>\n",
       "      <td>0</td>\n",
       "      <td>0</td>\n",
       "      <td>0</td>\n",
       "      <td>0.0</td>\n",
       "    </tr>\n",
       "    <tr>\n",
       "      <th>1</th>\n",
       "      <td>30558</td>\n",
       "      <td>0</td>\n",
       "      <td>0.054405</td>\n",
       "      <td>36y</td>\n",
       "      <td>0</td>\n",
       "      <td>2266.000000</td>\n",
       "      <td>NaN</td>\n",
       "      <td>5</td>\n",
       "      <td>0</td>\n",
       "      <td>1</td>\n",
       "      <td>0</td>\n",
       "      <td>NaN</td>\n",
       "    </tr>\n",
       "    <tr>\n",
       "      <th>2</th>\n",
       "      <td>1410</td>\n",
       "      <td>0</td>\n",
       "      <td>0.103319</td>\n",
       "      <td>84y</td>\n",
       "      <td>0</td>\n",
       "      <td>0.278180</td>\n",
       "      <td>4000.0</td>\n",
       "      <td>12</td>\n",
       "      <td>0</td>\n",
       "      <td>0</td>\n",
       "      <td>0</td>\n",
       "      <td>0.0</td>\n",
       "    </tr>\n",
       "    <tr>\n",
       "      <th>3</th>\n",
       "      <td>57097</td>\n",
       "      <td>1</td>\n",
       "      <td>0.147705</td>\n",
       "      <td>25y</td>\n",
       "      <td>2</td>\n",
       "      <td>0.098451</td>\n",
       "      <td>2000.0</td>\n",
       "      <td>2</td>\n",
       "      <td>3</td>\n",
       "      <td>0</td>\n",
       "      <td>0</td>\n",
       "      <td>1.0</td>\n",
       "    </tr>\n",
       "    <tr>\n",
       "      <th>4</th>\n",
       "      <td>2766</td>\n",
       "      <td>1</td>\n",
       "      <td>0.995003</td>\n",
       "      <td>30y</td>\n",
       "      <td>1</td>\n",
       "      <td>0.176956</td>\n",
       "      <td>4000.0</td>\n",
       "      <td>3</td>\n",
       "      <td>10</td>\n",
       "      <td>0</td>\n",
       "      <td>0</td>\n",
       "      <td>0.0</td>\n",
       "    </tr>\n",
       "  </tbody>\n",
       "</table>\n",
       "</div>"
      ],
      "text/plain": [
       "   Person (ID)  +89 delinquency days in 2 years  \\\n",
       "0        79740                                0   \n",
       "1        30558                                0   \n",
       "2         1410                                0   \n",
       "3        57097                                1   \n",
       "4         2766                                1   \n",
       "\n",
       "   % of revolving credit available used Age (years)  \\\n",
       "0                              0.146563         57y   \n",
       "1                              0.054405         36y   \n",
       "2                              0.103319         84y   \n",
       "3                              0.147705         25y   \n",
       "4                              0.995003         30y   \n",
       "\n",
       "   30-59 delinquency days in 2 years   Debt ratio  Monthly income  \\\n",
       "0                                  0   443.000000             NaN   \n",
       "1                                  0  2266.000000             NaN   \n",
       "2                                  0     0.278180          4000.0   \n",
       "3                                  2     0.098451          2000.0   \n",
       "4                                  1     0.176956          4000.0   \n",
       "\n",
       "   Credit lines & loans  90 days payment delays  Real estate loans or lines  \\\n",
       "0                     3                       0                           0   \n",
       "1                     5                       0                           1   \n",
       "2                    12                       0                           0   \n",
       "3                     2                       3                           0   \n",
       "4                     3                      10                           0   \n",
       "\n",
       "   60-89 delinquency days in 2 years  Dependents  \n",
       "0                                  0         0.0  \n",
       "1                                  0         NaN  \n",
       "2                                  0         0.0  \n",
       "3                                  0         1.0  \n",
       "4                                  0         0.0  "
      ]
     },
     "execution_count": 6,
     "metadata": {},
     "output_type": "execute_result"
    }
   ],
   "source": [
    "df_train_b.head()\n"
   ]
  },
  {
   "attachments": {},
   "cell_type": "markdown",
   "metadata": {},
   "source": [
    "# Limpieza"
   ]
  },
  {
   "attachments": {},
   "cell_type": "markdown",
   "metadata": {},
   "source": [
    "## Columna 0: Person (ID)"
   ]
  },
  {
   "cell_type": "code",
   "execution_count": 7,
   "metadata": {},
   "outputs": [
    {
     "data": {
      "text/plain": [
       "array([ 79740,  30558,   1410, ..., 142820,  43368,  53806], dtype=int64)"
      ]
     },
     "execution_count": 7,
     "metadata": {},
     "output_type": "execute_result"
    }
   ],
   "source": [
    "# No nos interesa convertir esta a dummies, así que la ignoramos\n",
    "# Nos será útil si luego hay que localizar alguno en concreto\n",
    "df_train_b['Person (ID)'].unique()\n"
   ]
  },
  {
   "attachments": {},
   "cell_type": "markdown",
   "metadata": {},
   "source": [
    "## Columna 1: +89 delinquency days in 2 years"
   ]
  },
  {
   "cell_type": "code",
   "execution_count": 8,
   "metadata": {},
   "outputs": [
    {
     "data": {
      "text/plain": [
       "array([0, 1], dtype=int64)"
      ]
     },
     "execution_count": 8,
     "metadata": {},
     "output_type": "execute_result"
    }
   ],
   "source": [
    "# Numérica y sin nulos, no necesita cambios\n",
    "df_train_b['+89 delinquency days in 2 years'].unique()\n"
   ]
  },
  {
   "attachments": {},
   "cell_type": "markdown",
   "metadata": {},
   "source": [
    "## Columna 2: % of revolving credit available used"
   ]
  },
  {
   "cell_type": "code",
   "execution_count": 9,
   "metadata": {},
   "outputs": [
    {
     "data": {
      "text/plain": [
       "array([0.14656337, 0.05440539, 0.10331853, ..., 0.05761835, 0.00896637,\n",
       "       0.12349612])"
      ]
     },
     "execution_count": 9,
     "metadata": {},
     "output_type": "execute_result"
    }
   ],
   "source": [
    "df_train_b['% of revolving credit available used'].unique()\n"
   ]
  },
  {
   "cell_type": "code",
   "execution_count": 10,
   "metadata": {},
   "outputs": [],
   "source": [
    "# Para esta multiplicamos todos los valores por 100, de manera que obtenemos el porcentaje del crédito rotativo utilizado respecto del límite total\n",
    "df_train_b['% of revolving credit available used'] = df_train_b['% of revolving credit available used'] * 100\n"
   ]
  },
  {
   "cell_type": "code",
   "execution_count": 11,
   "metadata": {},
   "outputs": [
    {
     "data": {
      "text/plain": [
       "array([14.6563373,  5.4405392, 10.3318532, ...,  5.7618348,  0.8966368,\n",
       "       12.3496118])"
      ]
     },
     "execution_count": 11,
     "metadata": {},
     "output_type": "execute_result"
    }
   ],
   "source": [
    "df_train_b['% of revolving credit available used'].unique()\n"
   ]
  },
  {
   "attachments": {},
   "cell_type": "markdown",
   "metadata": {},
   "source": [
    "## Columna 3: Age (years)"
   ]
  },
  {
   "cell_type": "code",
   "execution_count": 12,
   "metadata": {},
   "outputs": [
    {
     "data": {
      "text/plain": [
       "array(['57y', '36y', '84y', '25y', '30y', '35y', '72y', '56y', '59y',\n",
       "       '71y', '38y', '39y', '23y', '34y', '44y', '61y', '54y', '49y',\n",
       "       '53y', '46y', '76y', '65y', '42y', '69y', '37y', '64y', '62y',\n",
       "       '48y', '89y', '41y', '52y', '67y', '51y', '77y', '50y', '68y',\n",
       "       '66y', '55y', '27y', '45y', '63y', '43y', '47y', '40y', '28y',\n",
       "       '73y', '33y', '79y', '70y', '74y', '24y', '32y', '29y', '80y',\n",
       "       '82y', '78y', '87y', '58y', '26y', '75y', '60y', '81y', '31y',\n",
       "       '85y', '83y', '22y', '95y', '86y', '99y', '91y', '94y', '88y',\n",
       "       '21y', '93y', '90y', '97y', '92y', '103y', '96y', '109y', '0y',\n",
       "       '98y', '101y', '102y', '105y'], dtype=object)"
      ]
     },
     "execution_count": 12,
     "metadata": {},
     "output_type": "execute_result"
    }
   ],
   "source": [
    "df_train_b['Age (years)'].unique()\n"
   ]
  },
  {
   "cell_type": "code",
   "execution_count": 13,
   "metadata": {},
   "outputs": [],
   "source": [
    "# Con tal de convertirla en numérica, basta con liquidar la y\n",
    "df_train_b['Age (years)'] = df_train_b['Age (years)'].apply(lambda x: x[:-1])\n",
    "\n",
    "df_train_b['Age (years)'] = pd.to_numeric(df_train_b['Age (years)'])\n"
   ]
  },
  {
   "cell_type": "code",
   "execution_count": 14,
   "metadata": {},
   "outputs": [
    {
     "data": {
      "text/plain": [
       "array([ 57,  36,  84,  25,  30,  35,  72,  56,  59,  71,  38,  39,  23,\n",
       "        34,  44,  61,  54,  49,  53,  46,  76,  65,  42,  69,  37,  64,\n",
       "        62,  48,  89,  41,  52,  67,  51,  77,  50,  68,  66,  55,  27,\n",
       "        45,  63,  43,  47,  40,  28,  73,  33,  79,  70,  74,  24,  32,\n",
       "        29,  80,  82,  78,  87,  58,  26,  75,  60,  81,  31,  85,  83,\n",
       "        22,  95,  86,  99,  91,  94,  88,  21,  93,  90,  97,  92, 103,\n",
       "        96, 109,   0,  98, 101, 102, 105], dtype=int64)"
      ]
     },
     "execution_count": 14,
     "metadata": {},
     "output_type": "execute_result"
    }
   ],
   "source": [
    "df_train_b['Age (years)'].unique()\n"
   ]
  },
  {
   "attachments": {},
   "cell_type": "markdown",
   "metadata": {},
   "source": [
    "## Columna 4: 30-59 delinquency days in 2 years"
   ]
  },
  {
   "cell_type": "code",
   "execution_count": 15,
   "metadata": {},
   "outputs": [
    {
     "data": {
      "text/plain": [
       "array([ 0,  2,  1,  6,  3,  5,  4,  7, 98, 10,  9, 13,  8, 96, 12],\n",
       "      dtype=int64)"
      ]
     },
     "execution_count": 15,
     "metadata": {},
     "output_type": "execute_result"
    }
   ],
   "source": [
    "# Numérica y sin nulos, con lo que se deja igual\n",
    "df_train_b['30-59 delinquency days in 2 years'].unique()\n"
   ]
  },
  {
   "attachments": {},
   "cell_type": "markdown",
   "metadata": {},
   "source": [
    "## Columna 5: Debt ratio"
   ]
  },
  {
   "cell_type": "code",
   "execution_count": 16,
   "metadata": {},
   "outputs": [
    {
     "data": {
      "text/plain": [
       "array([14.6563373,  5.4405392, 10.3318532, ...,  5.7618348,  0.8966368,\n",
       "       12.3496118])"
      ]
     },
     "execution_count": 16,
     "metadata": {},
     "output_type": "execute_result"
    }
   ],
   "source": [
    "# Ya es numérica y sin nulos; no necesita retoques\n",
    "df_train_b['% of revolving credit available used'].unique()\n"
   ]
  },
  {
   "attachments": {},
   "cell_type": "markdown",
   "metadata": {},
   "source": [
    "## Columna 6: Monthly income"
   ]
  },
  {
   "cell_type": "code",
   "execution_count": 17,
   "metadata": {},
   "outputs": [
    {
     "data": {
      "text/plain": [
       "array([   nan,  4000.,  2000., ...,  9434.,  5554., 17967.])"
      ]
     },
     "execution_count": 17,
     "metadata": {},
     "output_type": "execute_result"
    }
   ],
   "source": [
    "df_train_b['Monthly income'].unique()\n"
   ]
  },
  {
   "cell_type": "code",
   "execution_count": 18,
   "metadata": {},
   "outputs": [
    {
     "data": {
      "image/png": "[encoded data removed]",
      "text/plain": [
       "<Figure size 640x480 with 1 Axes>"
      ]
     },
     "metadata": {},
     "output_type": "display_data"
    }
   ],
   "source": [
    "# Esta tiene algunos nulos. La representamos gráficamente\n",
    "sns.lineplot(df_train_b['Monthly income'])\n",
    "plt.show()\n"
   ]
  },
  {
   "cell_type": "code",
   "execution_count": 19,
   "metadata": {},
   "outputs": [
    {
     "data": {
      "image/png": "[encoded data removed]",
      "text/plain": [
       "<Figure size 640x480 with 1 Axes>"
      ]
     },
     "metadata": {},
     "output_type": "display_data"
    }
   ],
   "source": [
    "# Vemos que hay unos pocos valores muy por encima del resto, y un par que se elevan enormemente por encima de los demás\n",
    "# Lo confirmamos con un boxplot\n",
    "sns.boxplot(df_train_b['Monthly income'])\n",
    "plt.show()\n"
   ]
  },
  {
   "cell_type": "code",
   "execution_count": 20,
   "metadata": {},
   "outputs": [],
   "source": [
    "# Como lo más probable es que los nulos correspondan a ese grandísima mayoría de números que no se elevan, y se trata de una variable contínua, los imputamos a la media de ese conjunto\n",
    "Q1 = df_train_b['Monthly income'].quantile(0.25)\n",
    "Q3 = df_train_b['Monthly income'].quantile(0.75)\n",
    "IQR = Q1 - Q3\n",
    "maximum = Q1 - 1.5*IQR\n",
    "\n",
    "precise_mean = df_train_b[df_train_b['Monthly income'] < maximum]['Monthly income'].mean()\n",
    "\n",
    "df_train_b['Monthly income'] = df_train_b['Monthly income'].fillna(precise_mean)\n"
   ]
  },
  {
   "cell_type": "code",
   "execution_count": 21,
   "metadata": {},
   "outputs": [
    {
     "name": "stdout",
     "output_type": "stream",
     "text": [
      "<class 'pandas.core.series.Series'>\n",
      "RangeIndex: 73363 entries, 0 to 73362\n",
      "Series name: Monthly income\n",
      "Non-Null Count  Dtype  \n",
      "--------------  -----  \n",
      "73363 non-null  float64\n",
      "dtypes: float64(1)\n",
      "memory usage: 573.3 KB\n"
     ]
    }
   ],
   "source": [
    "df_train_b['Monthly income'].info()\n"
   ]
  },
  {
   "cell_type": "code",
   "execution_count": 22,
   "metadata": {},
   "outputs": [
    {
     "data": {
      "image/png": "[encoded data removed]",
      "text/plain": [
       "<Figure size 640x480 with 1 Axes>"
      ]
     },
     "metadata": {},
     "output_type": "display_data"
    }
   ],
   "source": [
    "# Hemos imputado los nulos y la línea general de la gráfica lineplot se mantiene\n",
    "sns.lineplot(df_train_b['Monthly income'])\n",
    "plt.show()\n"
   ]
  },
  {
   "attachments": {},
   "cell_type": "markdown",
   "metadata": {},
   "source": [
    "## Columna 7: Credit lines & loans"
   ]
  },
  {
   "cell_type": "code",
   "execution_count": 23,
   "metadata": {},
   "outputs": [
    {
     "data": {
      "text/plain": [
       "array([ 3,  5, 12,  2, 10,  4,  7,  6, 15, 20, 13, 16, 11, 23,  8,  1,  9,\n",
       "       22, 19, 14,  0, 17, 25, 18, 21, 26, 31, 29, 24, 27, 28, 30, 33, 35,\n",
       "       34, 39, 36, 32, 54, 43, 44, 42, 38, 52, 48, 40, 37, 41, 58, 50, 51,\n",
       "       49, 45, 46], dtype=int64)"
      ]
     },
     "execution_count": 23,
     "metadata": {},
     "output_type": "execute_result"
    }
   ],
   "source": [
    "# Ya es numérica y sin nulos; no necesita retoques\n",
    "df_train_b['Credit lines & loans'].unique()\n"
   ]
  },
  {
   "attachments": {},
   "cell_type": "markdown",
   "metadata": {},
   "source": [
    "## Columna 8: 90 days payment delays"
   ]
  },
  {
   "cell_type": "code",
   "execution_count": 24,
   "metadata": {},
   "outputs": [
    {
     "data": {
      "text/plain": [
       "array([ 0,  3, 10,  1,  2,  5,  7, 98,  4,  6, 12,  8, 14,  9, 11, 15, 96,\n",
       "       13, 17], dtype=int64)"
      ]
     },
     "execution_count": 24,
     "metadata": {},
     "output_type": "execute_result"
    }
   ],
   "source": [
    "# Como la anterior, no requiere cambios\n",
    "df_train_b['90 days payment delays'].unique()\n"
   ]
  },
  {
   "attachments": {},
   "cell_type": "markdown",
   "metadata": {},
   "source": [
    "## Columna 9: Real estate loans or lines"
   ]
  },
  {
   "cell_type": "code",
   "execution_count": 25,
   "metadata": {},
   "outputs": [
    {
     "data": {
      "text/plain": [
       "array([ 0,  1,  2,  3,  4,  5,  9,  7, 10,  6,  8, 16, 11, 13, 15, 12, 25,\n",
       "       23, 54, 17, 19, 14, 20, 21], dtype=int64)"
      ]
     },
     "execution_count": 25,
     "metadata": {},
     "output_type": "execute_result"
    }
   ],
   "source": [
    "# Sin cambios\n",
    "df_train_b['Real estate loans or lines'].unique()\n"
   ]
  },
  {
   "attachments": {},
   "cell_type": "markdown",
   "metadata": {},
   "source": [
    "## Columna 10: 60-89 delinquency days in 2 years"
   ]
  },
  {
   "cell_type": "code",
   "execution_count": 26,
   "metadata": {},
   "outputs": [
    {
     "data": {
      "text/plain": [
       "array([ 0,  1,  2,  3, 98,  4,  5,  6,  7, 96, 11], dtype=int64)"
      ]
     },
     "execution_count": 26,
     "metadata": {},
     "output_type": "execute_result"
    }
   ],
   "source": [
    "# No necesita cambios, pues carece de nulos y sus valores son numéricos\n",
    "df_train_b['60-89 delinquency days in 2 years'].unique()\n"
   ]
  },
  {
   "attachments": {},
   "cell_type": "markdown",
   "metadata": {},
   "source": [
    "## Columna 11: Dependents"
   ]
  },
  {
   "cell_type": "code",
   "execution_count": 27,
   "metadata": {},
   "outputs": [
    {
     "data": {
      "text/plain": [
       "array([ 0., nan,  1.,  2.,  4.,  5.,  3.,  6.,  8.,  7.,  9., 10.])"
      ]
     },
     "execution_count": 27,
     "metadata": {},
     "output_type": "execute_result"
    }
   ],
   "source": [
    "# Tiene nulos\n",
    "df_train_b['Dependents'].unique()\n"
   ]
  },
  {
   "cell_type": "code",
   "execution_count": 28,
   "metadata": {},
   "outputs": [
    {
     "data": {
      "image/png": "[encoded data removed]",
      "text/plain": [
       "<Figure size 640x480 with 1 Axes>"
      ]
     },
     "metadata": {},
     "output_type": "display_data"
    }
   ],
   "source": [
    "# La representamos gráficamente. Al parecer, los valores son bastante estables\n",
    "sns.lineplot(df_train_b['Dependents'])\n",
    "plt.show()\n"
   ]
  },
  {
   "cell_type": "code",
   "execution_count": 29,
   "metadata": {},
   "outputs": [
    {
     "name": "stdout",
     "output_type": "stream",
     "text": [
      "0.752424535035056\n",
      "0.0\n"
     ]
    }
   ],
   "source": [
    "# La gráfica engaña un poco, pues en realidad hay muchos que están cerca del 0 o son 0\n",
    "print(df_train_b['Dependents'].mean())\n",
    "print(df_train_b['Dependents'].median())\n"
   ]
  },
  {
   "cell_type": "code",
   "execution_count": 30,
   "metadata": {},
   "outputs": [
    {
     "data": {
      "image/png": "[encoded data removed]",
      "text/plain": [
       "<Figure size 640x480 with 1 Axes>"
      ]
     },
     "metadata": {},
     "output_type": "display_data"
    }
   ],
   "source": [
    "# Lo comprobamos con un boxplot\n",
    "sns.boxplot(df_train_b['Dependents'])\n",
    "plt.show()\n"
   ]
  },
  {
   "cell_type": "code",
   "execution_count": 31,
   "metadata": {},
   "outputs": [
    {
     "name": "stdout",
     "output_type": "stream",
     "text": [
      "<class 'pandas.core.series.Series'>\n",
      "RangeIndex: 73363 entries, 0 to 73362\n",
      "Series name: Dependents\n",
      "Non-Null Count  Dtype  \n",
      "--------------  -----  \n",
      "73363 non-null  float64\n",
      "dtypes: float64(1)\n",
      "memory usage: 573.3 KB\n"
     ]
    }
   ],
   "source": [
    "# Para el caso, lo más conveniente parece ser imputar los nulos a la mediana (0). Las razones son las siguientes:\n",
    "# Primero, se trata de una variable discreta, con lo que la media queda descartada\n",
    "# Segundo, la mediana es un indicativo razonable cuando los valores son dispares\n",
    "# Tercero, según Kaggle, la fuente es Credit Fusion, lo que significa que los datos provienen seguramente de los propios bancos\n",
    "# Tales instituciones suelen ofrecer ventajas a los que están al cargo de personas dependientes. Por tanto, existe un incentivo para los que tienen una o más para entregar sus datos\n",
    "# Deducimos que las personas que no se han esforzado en entregar sus datos probablemente no se hayan visto incentivadas a hacerlo por no tener personas dependientes\n",
    "df_train_b['Dependents'] = df_train_b['Dependents'].fillna(0)\n",
    "\n",
    "df_train_b['Dependents'].info()\n"
   ]
  },
  {
   "cell_type": "code",
   "execution_count": 32,
   "metadata": {},
   "outputs": [
    {
     "data": {
      "image/png": "[encoded data removed]",
      "text/plain": [
       "<Figure size 640x480 with 1 Axes>"
      ]
     },
     "metadata": {},
     "output_type": "display_data"
    }
   ],
   "source": [
    "# El boxplot resultante tiene un aspecto similar\n",
    "sns.boxplot(df_train_b['Dependents'])\n",
    "plt.show()\n"
   ]
  },
  {
   "cell_type": "code",
   "execution_count": 33,
   "metadata": {},
   "outputs": [],
   "source": [
    "# Finalmente, convertimos la columna a integer para optimizar la memoria, ya que sus valores no tienen decimales\n",
    "df_train_b['Dependents'] = df_train_b['Dependents'].apply(lambda x: int(x))\n"
   ]
  },
  {
   "attachments": {},
   "cell_type": "markdown",
   "metadata": {},
   "source": [
    "# Observación final"
   ]
  },
  {
   "cell_type": "code",
   "execution_count": 34,
   "metadata": {},
   "outputs": [
    {
     "name": "stdout",
     "output_type": "stream",
     "text": [
      "<class 'pandas.core.frame.DataFrame'>\n",
      "RangeIndex: 73363 entries, 0 to 73362\n",
      "Data columns (total 12 columns):\n",
      " #   Column                                Non-Null Count  Dtype  \n",
      "---  ------                                --------------  -----  \n",
      " 0   Person (ID)                           73363 non-null  int64  \n",
      " 1   +89 delinquency days in 2 years       73363 non-null  int64  \n",
      " 2   % of revolving credit available used  73363 non-null  float64\n",
      " 3   Age (years)                           73363 non-null  int64  \n",
      " 4   30-59 delinquency days in 2 years     73363 non-null  int64  \n",
      " 5   Debt ratio                            73363 non-null  float64\n",
      " 6   Monthly income                        73363 non-null  float64\n",
      " 7   Credit lines & loans                  73363 non-null  int64  \n",
      " 8   90 days payment delays                73363 non-null  int64  \n",
      " 9   Real estate loans or lines            73363 non-null  int64  \n",
      " 10  60-89 delinquency days in 2 years     73363 non-null  int64  \n",
      " 11  Dependents                            73363 non-null  int64  \n",
      "dtypes: float64(3), int64(9)\n",
      "memory usage: 6.7 MB\n"
     ]
    }
   ],
   "source": [
    "df_train_b.info()\n"
   ]
  },
  {
   "cell_type": "code",
   "execution_count": 35,
   "metadata": {},
   "outputs": [
    {
     "data": {
      "text/html": [
       "<div>\n",
       "<style scoped>\n",
       "    .dataframe tbody tr th:only-of-type {\n",
       "        vertical-align: middle;\n",
       "    }\n",
       "\n",
       "    .dataframe tbody tr th {\n",
       "        vertical-align: top;\n",
       "    }\n",
       "\n",
       "    .dataframe thead th {\n",
       "        text-align: right;\n",
       "    }\n",
       "</style>\n",
       "<table border=\"1\" class=\"dataframe\">\n",
       "  <thead>\n",
       "    <tr style=\"text-align: right;\">\n",
       "      <th></th>\n",
       "      <th>Person (ID)</th>\n",
       "      <th>+89 delinquency days in 2 years</th>\n",
       "      <th>% of revolving credit available used</th>\n",
       "      <th>Age (years)</th>\n",
       "      <th>30-59 delinquency days in 2 years</th>\n",
       "      <th>Debt ratio</th>\n",
       "      <th>Monthly income</th>\n",
       "      <th>Credit lines &amp; loans</th>\n",
       "      <th>90 days payment delays</th>\n",
       "      <th>Real estate loans or lines</th>\n",
       "      <th>60-89 delinquency days in 2 years</th>\n",
       "      <th>Dependents</th>\n",
       "    </tr>\n",
       "  </thead>\n",
       "  <tbody>\n",
       "    <tr>\n",
       "      <th>0</th>\n",
       "      <td>79740</td>\n",
       "      <td>0</td>\n",
       "      <td>14.656337</td>\n",
       "      <td>57</td>\n",
       "      <td>0</td>\n",
       "      <td>443.000000</td>\n",
       "      <td>5095.533263</td>\n",
       "      <td>3</td>\n",
       "      <td>0</td>\n",
       "      <td>0</td>\n",
       "      <td>0</td>\n",
       "      <td>0</td>\n",
       "    </tr>\n",
       "    <tr>\n",
       "      <th>1</th>\n",
       "      <td>30558</td>\n",
       "      <td>0</td>\n",
       "      <td>5.440539</td>\n",
       "      <td>36</td>\n",
       "      <td>0</td>\n",
       "      <td>2266.000000</td>\n",
       "      <td>5095.533263</td>\n",
       "      <td>5</td>\n",
       "      <td>0</td>\n",
       "      <td>1</td>\n",
       "      <td>0</td>\n",
       "      <td>0</td>\n",
       "    </tr>\n",
       "    <tr>\n",
       "      <th>2</th>\n",
       "      <td>1410</td>\n",
       "      <td>0</td>\n",
       "      <td>10.331853</td>\n",
       "      <td>84</td>\n",
       "      <td>0</td>\n",
       "      <td>0.278180</td>\n",
       "      <td>4000.000000</td>\n",
       "      <td>12</td>\n",
       "      <td>0</td>\n",
       "      <td>0</td>\n",
       "      <td>0</td>\n",
       "      <td>0</td>\n",
       "    </tr>\n",
       "    <tr>\n",
       "      <th>3</th>\n",
       "      <td>57097</td>\n",
       "      <td>1</td>\n",
       "      <td>14.770459</td>\n",
       "      <td>25</td>\n",
       "      <td>2</td>\n",
       "      <td>0.098451</td>\n",
       "      <td>2000.000000</td>\n",
       "      <td>2</td>\n",
       "      <td>3</td>\n",
       "      <td>0</td>\n",
       "      <td>0</td>\n",
       "      <td>1</td>\n",
       "    </tr>\n",
       "    <tr>\n",
       "      <th>4</th>\n",
       "      <td>2766</td>\n",
       "      <td>1</td>\n",
       "      <td>99.500278</td>\n",
       "      <td>30</td>\n",
       "      <td>1</td>\n",
       "      <td>0.176956</td>\n",
       "      <td>4000.000000</td>\n",
       "      <td>3</td>\n",
       "      <td>10</td>\n",
       "      <td>0</td>\n",
       "      <td>0</td>\n",
       "      <td>0</td>\n",
       "    </tr>\n",
       "  </tbody>\n",
       "</table>\n",
       "</div>"
      ],
      "text/plain": [
       "   Person (ID)  +89 delinquency days in 2 years  \\\n",
       "0        79740                                0   \n",
       "1        30558                                0   \n",
       "2         1410                                0   \n",
       "3        57097                                1   \n",
       "4         2766                                1   \n",
       "\n",
       "   % of revolving credit available used  Age (years)  \\\n",
       "0                             14.656337           57   \n",
       "1                              5.440539           36   \n",
       "2                             10.331853           84   \n",
       "3                             14.770459           25   \n",
       "4                             99.500278           30   \n",
       "\n",
       "   30-59 delinquency days in 2 years   Debt ratio  Monthly income  \\\n",
       "0                                  0   443.000000     5095.533263   \n",
       "1                                  0  2266.000000     5095.533263   \n",
       "2                                  0     0.278180     4000.000000   \n",
       "3                                  2     0.098451     2000.000000   \n",
       "4                                  1     0.176956     4000.000000   \n",
       "\n",
       "   Credit lines & loans  90 days payment delays  Real estate loans or lines  \\\n",
       "0                     3                       0                           0   \n",
       "1                     5                       0                           1   \n",
       "2                    12                       0                           0   \n",
       "3                     2                       3                           0   \n",
       "4                     3                      10                           0   \n",
       "\n",
       "   60-89 delinquency days in 2 years  Dependents  \n",
       "0                                  0           0  \n",
       "1                                  0           0  \n",
       "2                                  0           0  \n",
       "3                                  0           1  \n",
       "4                                  0           0  "
      ]
     },
     "execution_count": 35,
     "metadata": {},
     "output_type": "execute_result"
    }
   ],
   "source": [
    "df_train_b.head()\n"
   ]
  },
  {
   "cell_type": "code",
   "execution_count": 36,
   "metadata": {},
   "outputs": [],
   "source": [
    "df_train_b.to_csv('df_train_b_cleaned.csv', index=False)\n"
   ]
  }
 ],
 "metadata": {
  "kernelspec": {
   "display_name": "data_analytics",
   "language": "python",
   "name": "python3"
  },
  "language_info": {
   "codemirror_mode": {
    "name": "ipython",
    "version": 3
   },
   "file_extension": ".py",
   "mimetype": "text/x-python",
   "name": "python",
   "nbconvert_exporter": "python",
   "pygments_lexer": "ipython3",
   "version": "3.9.15"
  },
  "orig_nbformat": 4,
  "vscode": {
   "interpreter": {
    "hash": "b824bf52cf534a16238dce884e8fdba8cd1853727e048048d6b0b37b0d718f27"
   }
  }
 },
 "nbformat": 4,
 "nbformat_minor": 2
}
