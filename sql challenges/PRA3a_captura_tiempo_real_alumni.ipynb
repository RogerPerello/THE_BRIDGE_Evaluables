{
 "cells": [
  {
   "cell_type": "markdown",
   "metadata": {
    "id": "Ck4PufGcoNb2"
   },
   "source": [
    "# PEC 3 - Web Scraping Streaming"
   ]
  },
  {
   "cell_type": "markdown",
   "metadata": {
    "id": "KC-F1owwXIEv"
   },
   "source": [
    "En esta PEC vamos a **continuar trabajando el web scraping**. Vamos a prestar especial atención al web scraping en streaming que es el objetivo del reto. Además, continuaremos explorando otras librerías que nos permiten hacer web scraping, como request-html y SerPapi.\n",
    "\n",
    "Por tanto, la PEC se va a dividir en **3 PARTES**: Web Scraping en Streaming, Web Scraping con Requests-html y, Web Scraping con SerPapi.\n",
    "\n",
    "Mencionar que, en algunos ejercicios se va a motivar el uso de los selectores CSS y los XPath. \n",
    "**Los selectores CSS y XPath** son expresiones que permiten seleccionar elementos de un documento HTML basados en sus clases o en la ubicación dentro del contenido. \n",
    "Una referencia interesante de los mismos la podéis encontrar en las siguientes dos páginas web: https://www.w3schools.com/xml/xpath_syntax.asp, https://www.w3schools.com/cssref/css_selectors.asp "
   ]
  },
  {
   "cell_type": "markdown",
   "metadata": {
    "id": "kXE7YpuEXzMf"
   },
   "source": [
    "_Ejemplo:_\n",
    "\n",
    "\n",
    "\n",
    "*   _p.intro.rellevant_: seleccionaría los elementos _párrafo_ con valores de classe iguales a 'intro' y 'rellevant'.  \n",
    "*   _div > p_ : selecciona todos los elementos _\\<p>_ donde el padre sea un elemento \\<div>.\n",
    "\n",
    "\n"
   ]
  },
  {
   "cell_type": "markdown",
   "metadata": {
    "id": "dabjS3OEoWkB"
   },
   "source": [
    "## Parte 1. Web Scraping (Streaming)"
   ]
  },
  {
   "cell_type": "markdown",
   "metadata": {
    "id": "35pFMJce-FCS"
   },
   "source": [
    "El Web scraping en streaming consiste básicamente en extraer datos de la web cuando estos datos cambian en tiempo real. Un claro ejemplo sería la extracción de datos procedentes de redes sociales.\n",
    "\n",
    "Para trabajar esta parte vamos a extraer datos de la red social Twitter. Para ello, vamos a utilizar la API  de Twitter. Esta API necesita registrarse y acceder con una clave (Api KEY).\n",
    "\n",
    "El primer paso, por tanto, es acceder al centro de desarrolladores de aplicaciones de Twitter (https://apps.twitter.com). Aquí deberéis entrar con vuestra cuenta twitter. En caso de no tener cuenta, previamente se recomienda que os creeis una para la realización de la PAC y que después de entregar la PAC, si no la queréis conservar, la eliminéis.\n",
    "\n",
    "**Los pasos que debéis seguir para registraros, se han detallado en el anexo del documento del enunciado de la PAC.**\n",
    "\n",
    "Una vez registrados y haber solicitado las credenciales, cuando recibamos la aprobación y tengamos acceso a nuestras claves, podemos empezar a obtener información disponible de Twitter.\n",
    "\n",
    "Para hacer web scraping en Twitter, vamos a utilizar la librería tweepy. Esta cuenta con diferentes funciones que nos permiten obtener información de las cuentas y sobre los tweets más recientes. Durante la realización de la PAC, vamos a utilizar básicamente dos funciones: API.user_timeline() y API.get_user(). En la página web de la librería (https://tweepy.readthedocs.io/en/latest/api.html#tweepy-api-twitter-api-wrapper) encontraréis información relativa a las prestaciones de la misma. Os recomendamos que la reviséis para conocer más detalles.\n",
    "\n",
    "Antes de empezar con el ejercicio práctico, vamos a trabajar un ejemplo que nos permitirá familiarizarnos con la librería y con las funciones que se precisarán utilizar para resolver el ejercicio. En el siguiente ejemplo, por tanto, vamos a obtener las características relativas a una cuenta de twitter, concretamente la de la UOC (@UOCuniversitat), y la fecha de su tweet más reciente."
   ]
  },
  {
   "cell_type": "markdown",
   "metadata": {
    "id": "SdgG6CE5-d7q"
   },
   "source": [
    "En primer lugar, tenemos que definir las librerías y las claves de acceso (*consumer_key, consumer_secret, access_token, access_token_secret*) a la API de Twitter. "
   ]
  },
  {
   "cell_type": "code",
   "execution_count": 1,
   "metadata": {
    "id": "Fk7mw33U-WJV"
   },
   "outputs": [
    {
     "name": "stdout",
     "output_type": "stream",
     "text": [
      "Collecting tweepy\n",
      "  Downloading tweepy-4.12.1-py3-none-any.whl (101 kB)\n",
      "     -------------------------------------- 101.6/101.6 kB 1.9 MB/s eta 0:00:00\n",
      "Collecting requests-oauthlib<2,>=1.2.0\n",
      "  Downloading requests_oauthlib-1.3.1-py2.py3-none-any.whl (23 kB)\n",
      "Requirement already satisfied: requests<3,>=2.27.0 in c:\\users\\roger\\miniconda3\\envs\\data_analytics\\lib\\site-packages (from tweepy) (2.28.1)\n",
      "Collecting oauthlib<4,>=3.2.0\n",
      "  Downloading oauthlib-3.2.2-py3-none-any.whl (151 kB)\n",
      "     -------------------------------------- 151.7/151.7 kB 4.4 MB/s eta 0:00:00\n",
      "Requirement already satisfied: urllib3<1.27,>=1.21.1 in c:\\users\\roger\\miniconda3\\envs\\data_analytics\\lib\\site-packages (from requests<3,>=2.27.0->tweepy) (1.26.13)\n",
      "Requirement already satisfied: idna<4,>=2.5 in c:\\users\\roger\\miniconda3\\envs\\data_analytics\\lib\\site-packages (from requests<3,>=2.27.0->tweepy) (3.4)\n",
      "Requirement already satisfied: certifi>=2017.4.17 in c:\\users\\roger\\miniconda3\\envs\\data_analytics\\lib\\site-packages (from requests<3,>=2.27.0->tweepy) (2022.9.24)\n",
      "Requirement already satisfied: charset-normalizer<3,>=2 in c:\\users\\roger\\miniconda3\\envs\\data_analytics\\lib\\site-packages (from requests<3,>=2.27.0->tweepy) (2.1.1)\n",
      "Installing collected packages: oauthlib, requests-oauthlib, tweepy\n",
      "Successfully installed oauthlib-3.2.2 requests-oauthlib-1.3.1 tweepy-4.12.1\n"
     ]
    }
   ],
   "source": [
    "# Definición librerías\n",
    "!pip install tweepy\n",
    "import tweepy\n",
    "from tweepy import API"
   ]
  },
  {
   "cell_type": "code",
   "execution_count": 2,
   "metadata": {
    "id": "sHYlo3HyoKzK"
   },
   "outputs": [],
   "source": [
    "# Definir claves de acceso\n",
    "consumer_key = '################################'\n",
    "consumer_secret = '################################'\n",
    "access_token = '################################'\n",
    "access_token_secret = '################################'"
   ]
  },
  {
   "cell_type": "markdown",
   "metadata": {
    "id": "GUdnl8vU-56S"
   },
   "source": [
    "A continuación, estableceremos la conexión a la API:"
   ]
  },
  {
   "cell_type": "code",
   "execution_count": 3,
   "metadata": {
    "id": "E6ZLYhlD_Zar"
   },
   "outputs": [],
   "source": [
    "# Importamos\n",
    "from tweepy import OAuthHandler"
   ]
  },
  {
   "cell_type": "code",
   "execution_count": 4,
   "metadata": {
    "id": "zbsHHXRB-wa2"
   },
   "outputs": [],
   "source": [
    "# Definir la autentificación y establecer la conexión\n",
    "auth = OAuthHandler(consumer_key, consumer_secret)\n",
    "auth.set_access_token(access_token, access_token_secret)\n",
    "            \n",
    "auth_api = API(auth)"
   ]
  },
  {
   "cell_type": "markdown",
   "metadata": {
    "id": "rpEmq85M_hiK"
   },
   "source": [
    "Ahora, vamos a conocer los detalles de la cuenta @UOCuniversitat. Los campos que nos interesan son el nombre ('name'), la ubicación ('location'), el número de seguidores ('followers_count'), el número de amigos o seguidos ('friends_count') y cuándo se creó la cuenta ('created_at'). \n",
    "\n",
    "\n"
   ]
  },
  {
   "cell_type": "code",
   "execution_count": 5,
   "metadata": {
    "id": "bDtYOD9-_Tm3"
   },
   "outputs": [
    {
     "ename": "BadRequest",
     "evalue": "400 Bad Request\n215 - Bad Authentication data.",
     "output_type": "error",
     "traceback": [
      "\u001b[1;31m---------------------------------------------------------------------------\u001b[0m",
      "\u001b[1;31mBadRequest\u001b[0m                                Traceback (most recent call last)",
      "Cell \u001b[1;32mIn [5], line 1\u001b[0m\n\u001b[1;32m----> 1\u001b[0m detalles_cuenta_UOC \u001b[39m=\u001b[39m auth_api\u001b[39m.\u001b[39;49mget_user(screen_name\u001b[39m=\u001b[39;49m\u001b[39m'\u001b[39;49m\u001b[39mUOCuniversitat\u001b[39;49m\u001b[39m'\u001b[39;49m)\n\u001b[0;32m      2\u001b[0m detalles_cuenta_UOC\n",
      "File \u001b[1;32mc:\\Users\\Roger\\miniconda3\\envs\\data_analytics\\lib\\site-packages\\tweepy\\api.py:46\u001b[0m, in \u001b[0;36mpayload.<locals>.decorator.<locals>.wrapper\u001b[1;34m(*args, **kwargs)\u001b[0m\n\u001b[0;32m     44\u001b[0m kwargs[\u001b[39m'\u001b[39m\u001b[39mpayload_list\u001b[39m\u001b[39m'\u001b[39m] \u001b[39m=\u001b[39m payload_list\n\u001b[0;32m     45\u001b[0m kwargs[\u001b[39m'\u001b[39m\u001b[39mpayload_type\u001b[39m\u001b[39m'\u001b[39m] \u001b[39m=\u001b[39m payload_type\n\u001b[1;32m---> 46\u001b[0m \u001b[39mreturn\u001b[39;00m method(\u001b[39m*\u001b[39margs, \u001b[39m*\u001b[39m\u001b[39m*\u001b[39mkwargs)\n",
      "File \u001b[1;32mc:\\Users\\Roger\\miniconda3\\envs\\data_analytics\\lib\\site-packages\\tweepy\\api.py:2508\u001b[0m, in \u001b[0;36mAPI.get_user\u001b[1;34m(self, **kwargs)\u001b[0m\n\u001b[0;32m   2485\u001b[0m \u001b[39m@payload\u001b[39m(\u001b[39m'\u001b[39m\u001b[39muser\u001b[39m\u001b[39m'\u001b[39m)\n\u001b[0;32m   2486\u001b[0m \u001b[39mdef\u001b[39;00m \u001b[39mget_user\u001b[39m(\u001b[39mself\u001b[39m, \u001b[39m*\u001b[39m\u001b[39m*\u001b[39mkwargs):\n\u001b[0;32m   2487\u001b[0m     \u001b[39m\"\"\"get_user(*, user_id, screen_name, include_entities)\u001b[39;00m\n\u001b[0;32m   2488\u001b[0m \n\u001b[0;32m   2489\u001b[0m \u001b[39m    Returns information about the specified user.\u001b[39;00m\n\u001b[1;32m   (...)\u001b[0m\n\u001b[0;32m   2506\u001b[0m \u001b[39m    https://developer.twitter.com/en/docs/twitter-api/v1/accounts-and-users/follow-search-get-users/api-reference/get-users-show\u001b[39;00m\n\u001b[0;32m   2507\u001b[0m \u001b[39m    \"\"\"\u001b[39;00m\n\u001b[1;32m-> 2508\u001b[0m     \u001b[39mreturn\u001b[39;00m \u001b[39mself\u001b[39m\u001b[39m.\u001b[39mrequest(\n\u001b[0;32m   2509\u001b[0m         \u001b[39m'\u001b[39m\u001b[39mGET\u001b[39m\u001b[39m'\u001b[39m, \u001b[39m'\u001b[39m\u001b[39musers/show\u001b[39m\u001b[39m'\u001b[39m, endpoint_parameters\u001b[39m=\u001b[39m(\n\u001b[0;32m   2510\u001b[0m             \u001b[39m'\u001b[39m\u001b[39muser_id\u001b[39m\u001b[39m'\u001b[39m, \u001b[39m'\u001b[39m\u001b[39mscreen_name\u001b[39m\u001b[39m'\u001b[39m, \u001b[39m'\u001b[39m\u001b[39minclude_entities\u001b[39m\u001b[39m'\u001b[39m\n\u001b[0;32m   2511\u001b[0m         ), \u001b[39m*\u001b[39m\u001b[39m*\u001b[39mkwargs\n\u001b[0;32m   2512\u001b[0m     )\n",
      "File \u001b[1;32mc:\\Users\\Roger\\miniconda3\\envs\\data_analytics\\lib\\site-packages\\tweepy\\api.py:261\u001b[0m, in \u001b[0;36mAPI.request\u001b[1;34m(self, method, endpoint, endpoint_parameters, params, headers, json_payload, parser, payload_list, payload_type, post_data, files, require_auth, return_cursors, upload_api, use_cache, **kwargs)\u001b[0m\n\u001b[0;32m    259\u001b[0m \u001b[39mself\u001b[39m\u001b[39m.\u001b[39mlast_response \u001b[39m=\u001b[39m resp\n\u001b[0;32m    260\u001b[0m \u001b[39mif\u001b[39;00m resp\u001b[39m.\u001b[39mstatus_code \u001b[39m==\u001b[39m \u001b[39m400\u001b[39m:\n\u001b[1;32m--> 261\u001b[0m     \u001b[39mraise\u001b[39;00m BadRequest(resp)\n\u001b[0;32m    262\u001b[0m \u001b[39mif\u001b[39;00m resp\u001b[39m.\u001b[39mstatus_code \u001b[39m==\u001b[39m \u001b[39m401\u001b[39m:\n\u001b[0;32m    263\u001b[0m     \u001b[39mraise\u001b[39;00m Unauthorized(resp)\n",
      "\u001b[1;31mBadRequest\u001b[0m: 400 Bad Request\n215 - Bad Authentication data."
     ]
    }
   ],
   "source": [
    "detalles_cuenta_UOC = auth_api.get_user(screen_name='UOCuniversitat')\n",
    "detalles_cuenta_UOC"
   ]
  },
  {
   "cell_type": "code",
   "execution_count": null,
   "metadata": {
    "colab": {
     "base_uri": "https://localhost:8080/",
     "height": 54
    },
    "id": "9e1tBA4I_yHQ",
    "outputId": "0c165d3c-17fd-4018-ef46-854445769480"
   },
   "outputs": [
    {
     "data": {
      "text/plain": [
       "User(_api=<tweepy.api.API object at 0x7f97ad5923c8>, _json={'id': 14919552, 'id_str': '14919552', 'name': 'UOCuniversitat', 'screen_name': 'UOCuniversitat', 'location': 'Barcelona', 'profile_location': None, 'description': \"Twitter oficial en català de la Universitat Oberta de Catalunya. En español: @UOCuniversidad. Servei d'atenció: @UOCrespon.\", 'url': 'https://t.co/Kz3lA2EQdz', 'entities': {'url': {'urls': [{'url': 'https://t.co/Kz3lA2EQdz', 'expanded_url': 'http://25.uoc.edu', 'display_url': '25.uoc.edu', 'indices': [0, 23]}]}, 'description': {'urls': []}}, 'protected': False, 'followers_count': 36917, 'friends_count': 2794, 'listed_count': 1091, 'created_at': 'Tue May 27 11:19:19 +0000 2008', 'favourites_count': 2802, 'utc_offset': None, 'time_zone': None, 'geo_enabled': True, 'verified': False, 'statuses_count': 26753, 'lang': None, 'status': {'created_at': 'Wed Oct 21 20:23:50 +0000 2020', 'id': 1319011535847641091, 'id_str': '1319011535847641091', 'text': 'RT @JosepMVilalta: Excel·lent xerrada de Sanjay Sarma, no us la perdeu! Enhorabona @UOCuniversitat https://t.co/jlvz4NfACa', 'truncated': False, 'entities': {'hashtags': [], 'symbols': [], 'user_mentions': [{'screen_name': 'JosepMVilalta', 'name': 'Josep M. Pep Vilalta', 'id': 1076441989, 'id_str': '1076441989', 'indices': [3, 17]}, {'screen_name': 'UOCuniversitat', 'name': 'UOCuniversitat', 'id': 14919552, 'id_str': '14919552', 'indices': [83, 98]}], 'urls': [{'url': 'https://t.co/jlvz4NfACa', 'expanded_url': 'https://twitter.com/uocuniversitat/status/1318930882598752259', 'display_url': 'twitter.com/uocuniversitat…', 'indices': [99, 122]}]}, 'source': '<a href=\"https://www.hootsuite.com\" rel=\"nofollow\">Hootsuite Inc.</a>', 'in_reply_to_status_id': None, 'in_reply_to_status_id_str': None, 'in_reply_to_user_id': None, 'in_reply_to_user_id_str': None, 'in_reply_to_screen_name': None, 'geo': None, 'coordinates': None, 'place': None, 'contributors': None, 'retweeted_status': {'created_at': 'Wed Oct 21 19:37:32 +0000 2020', 'id': 1318999883248959490, 'id_str': '1318999883248959490', 'text': 'Excel·lent xerrada de Sanjay Sarma, no us la perdeu! Enhorabona @UOCuniversitat https://t.co/jlvz4NfACa', 'truncated': False, 'entities': {'hashtags': [], 'symbols': [], 'user_mentions': [{'screen_name': 'UOCuniversitat', 'name': 'UOCuniversitat', 'id': 14919552, 'id_str': '14919552', 'indices': [64, 79]}], 'urls': [{'url': 'https://t.co/jlvz4NfACa', 'expanded_url': 'https://twitter.com/uocuniversitat/status/1318930882598752259', 'display_url': 'twitter.com/uocuniversitat…', 'indices': [80, 103]}]}, 'source': '<a href=\"http://twitter.com/download/iphone\" rel=\"nofollow\">Twitter for iPhone</a>', 'in_reply_to_status_id': None, 'in_reply_to_status_id_str': None, 'in_reply_to_user_id': None, 'in_reply_to_user_id_str': None, 'in_reply_to_screen_name': None, 'geo': None, 'coordinates': None, 'place': None, 'contributors': None, 'is_quote_status': True, 'quoted_status_id': 1318930882598752259, 'quoted_status_id_str': '1318930882598752259', 'retweet_count': 1, 'favorite_count': 2, 'favorited': False, 'retweeted': False, 'possibly_sensitive': False, 'lang': 'pt'}, 'is_quote_status': True, 'quoted_status_id': 1318930882598752259, 'quoted_status_id_str': '1318930882598752259', 'retweet_count': 1, 'favorite_count': 0, 'favorited': False, 'retweeted': False, 'possibly_sensitive': False, 'lang': 'pt'}, 'contributors_enabled': False, 'is_translator': False, 'is_translation_enabled': False, 'profile_background_color': 'FFFFFF', 'profile_background_image_url': 'http://abs.twimg.com/images/themes/theme1/bg.png', 'profile_background_image_url_https': 'https://abs.twimg.com/images/themes/theme1/bg.png', 'profile_background_tile': False, 'profile_image_url': 'http://pbs.twimg.com/profile_images/1316303661224656896/KIJs0w9a_normal.jpg', 'profile_image_url_https': 'https://pbs.twimg.com/profile_images/1316303661224656896/KIJs0w9a_normal.jpg', 'profile_banner_url': 'https://pbs.twimg.com/profile_banners/14919552/1602666225', 'profile_link_color': '0084B4', 'profile_sidebar_border_color': 'FFFFFF', 'profile_sidebar_fill_color': 'D8DCCF', 'profile_text_color': '3848A0', 'profile_use_background_image': True, 'has_extended_profile': False, 'default_profile': False, 'default_profile_image': False, 'following': False, 'follow_request_sent': False, 'notifications': False, 'translator_type': 'none'}, id=14919552, id_str='14919552', name='UOCuniversitat', screen_name='UOCuniversitat', location='Barcelona', profile_location=None, description=\"Twitter oficial en català de la Universitat Oberta de Catalunya. En español: @UOCuniversidad. Servei d'atenció: @UOCrespon.\", url='https://t.co/Kz3lA2EQdz', entities={'url': {'urls': [{'url': 'https://t.co/Kz3lA2EQdz', 'expanded_url': 'http://25.uoc.edu', 'display_url': '25.uoc.edu', 'indices': [0, 23]}]}, 'description': {'urls': []}}, protected=False, followers_count=36917, friends_count=2794, listed_count=1091, created_at=datetime.datetime(2008, 5, 27, 11, 19, 19), favourites_count=2802, utc_offset=None, time_zone=None, geo_enabled=True, verified=False, statuses_count=26753, lang=None, status=Status(_api=<tweepy.api.API object at 0x7f97ad5923c8>, _json={'created_at': 'Wed Oct 21 20:23:50 +0000 2020', 'id': 1319011535847641091, 'id_str': '1319011535847641091', 'text': 'RT @JosepMVilalta: Excel·lent xerrada de Sanjay Sarma, no us la perdeu! Enhorabona @UOCuniversitat https://t.co/jlvz4NfACa', 'truncated': False, 'entities': {'hashtags': [], 'symbols': [], 'user_mentions': [{'screen_name': 'JosepMVilalta', 'name': 'Josep M. Pep Vilalta', 'id': 1076441989, 'id_str': '1076441989', 'indices': [3, 17]}, {'screen_name': 'UOCuniversitat', 'name': 'UOCuniversitat', 'id': 14919552, 'id_str': '14919552', 'indices': [83, 98]}], 'urls': [{'url': 'https://t.co/jlvz4NfACa', 'expanded_url': 'https://twitter.com/uocuniversitat/status/1318930882598752259', 'display_url': 'twitter.com/uocuniversitat…', 'indices': [99, 122]}]}, 'source': '<a href=\"https://www.hootsuite.com\" rel=\"nofollow\">Hootsuite Inc.</a>', 'in_reply_to_status_id': None, 'in_reply_to_status_id_str': None, 'in_reply_to_user_id': None, 'in_reply_to_user_id_str': None, 'in_reply_to_screen_name': None, 'geo': None, 'coordinates': None, 'place': None, 'contributors': None, 'retweeted_status': {'created_at': 'Wed Oct 21 19:37:32 +0000 2020', 'id': 1318999883248959490, 'id_str': '1318999883248959490', 'text': 'Excel·lent xerrada de Sanjay Sarma, no us la perdeu! Enhorabona @UOCuniversitat https://t.co/jlvz4NfACa', 'truncated': False, 'entities': {'hashtags': [], 'symbols': [], 'user_mentions': [{'screen_name': 'UOCuniversitat', 'name': 'UOCuniversitat', 'id': 14919552, 'id_str': '14919552', 'indices': [64, 79]}], 'urls': [{'url': 'https://t.co/jlvz4NfACa', 'expanded_url': 'https://twitter.com/uocuniversitat/status/1318930882598752259', 'display_url': 'twitter.com/uocuniversitat…', 'indices': [80, 103]}]}, 'source': '<a href=\"http://twitter.com/download/iphone\" rel=\"nofollow\">Twitter for iPhone</a>', 'in_reply_to_status_id': None, 'in_reply_to_status_id_str': None, 'in_reply_to_user_id': None, 'in_reply_to_user_id_str': None, 'in_reply_to_screen_name': None, 'geo': None, 'coordinates': None, 'place': None, 'contributors': None, 'is_quote_status': True, 'quoted_status_id': 1318930882598752259, 'quoted_status_id_str': '1318930882598752259', 'retweet_count': 1, 'favorite_count': 2, 'favorited': False, 'retweeted': False, 'possibly_sensitive': False, 'lang': 'pt'}, 'is_quote_status': True, 'quoted_status_id': 1318930882598752259, 'quoted_status_id_str': '1318930882598752259', 'retweet_count': 1, 'favorite_count': 0, 'favorited': False, 'retweeted': False, 'possibly_sensitive': False, 'lang': 'pt'}, created_at=datetime.datetime(2020, 10, 21, 20, 23, 50), id=1319011535847641091, id_str='1319011535847641091', text='RT @JosepMVilalta: Excel·lent xerrada de Sanjay Sarma, no us la perdeu! Enhorabona @UOCuniversitat https://t.co/jlvz4NfACa', truncated=False, entities={'hashtags': [], 'symbols': [], 'user_mentions': [{'screen_name': 'JosepMVilalta', 'name': 'Josep M. Pep Vilalta', 'id': 1076441989, 'id_str': '1076441989', 'indices': [3, 17]}, {'screen_name': 'UOCuniversitat', 'name': 'UOCuniversitat', 'id': 14919552, 'id_str': '14919552', 'indices': [83, 98]}], 'urls': [{'url': 'https://t.co/jlvz4NfACa', 'expanded_url': 'https://twitter.com/uocuniversitat/status/1318930882598752259', 'display_url': 'twitter.com/uocuniversitat…', 'indices': [99, 122]}]}, source='Hootsuite Inc.', source_url='https://www.hootsuite.com', in_reply_to_status_id=None, in_reply_to_status_id_str=None, in_reply_to_user_id=None, in_reply_to_user_id_str=None, in_reply_to_screen_name=None, geo=None, coordinates=None, place=None, contributors=None, retweeted_status=Status(_api=<tweepy.api.API object at 0x7f97ad5923c8>, _json={'created_at': 'Wed Oct 21 19:37:32 +0000 2020', 'id': 1318999883248959490, 'id_str': '1318999883248959490', 'text': 'Excel·lent xerrada de Sanjay Sarma, no us la perdeu! Enhorabona @UOCuniversitat https://t.co/jlvz4NfACa', 'truncated': False, 'entities': {'hashtags': [], 'symbols': [], 'user_mentions': [{'screen_name': 'UOCuniversitat', 'name': 'UOCuniversitat', 'id': 14919552, 'id_str': '14919552', 'indices': [64, 79]}], 'urls': [{'url': 'https://t.co/jlvz4NfACa', 'expanded_url': 'https://twitter.com/uocuniversitat/status/1318930882598752259', 'display_url': 'twitter.com/uocuniversitat…', 'indices': [80, 103]}]}, 'source': '<a href=\"http://twitter.com/download/iphone\" rel=\"nofollow\">Twitter for iPhone</a>', 'in_reply_to_status_id': None, 'in_reply_to_status_id_str': None, 'in_reply_to_user_id': None, 'in_reply_to_user_id_str': None, 'in_reply_to_screen_name': None, 'geo': None, 'coordinates': None, 'place': None, 'contributors': None, 'is_quote_status': True, 'quoted_status_id': 1318930882598752259, 'quoted_status_id_str': '1318930882598752259', 'retweet_count': 1, 'favorite_count': 2, 'favorited': False, 'retweeted': False, 'possibly_sensitive': False, 'lang': 'pt'}, created_at=datetime.datetime(2020, 10, 21, 19, 37, 32), id=1318999883248959490, id_str='1318999883248959490', text='Excel·lent xerrada de Sanjay Sarma, no us la perdeu! Enhorabona @UOCuniversitat https://t.co/jlvz4NfACa', truncated=False, entities={'hashtags': [], 'symbols': [], 'user_mentions': [{'screen_name': 'UOCuniversitat', 'name': 'UOCuniversitat', 'id': 14919552, 'id_str': '14919552', 'indices': [64, 79]}], 'urls': [{'url': 'https://t.co/jlvz4NfACa', 'expanded_url': 'https://twitter.com/uocuniversitat/status/1318930882598752259', 'display_url': 'twitter.com/uocuniversitat…', 'indices': [80, 103]}]}, source='Twitter for iPhone', source_url='http://twitter.com/download/iphone', in_reply_to_status_id=None, in_reply_to_status_id_str=None, in_reply_to_user_id=None, in_reply_to_user_id_str=None, in_reply_to_screen_name=None, geo=None, coordinates=None, place=None, contributors=None, is_quote_status=True, quoted_status_id=1318930882598752259, quoted_status_id_str='1318930882598752259', retweet_count=1, favorite_count=2, favorited=False, retweeted=False, possibly_sensitive=False, lang='pt'), is_quote_status=True, quoted_status_id=1318930882598752259, quoted_status_id_str='1318930882598752259', retweet_count=1, favorite_count=0, favorited=False, retweeted=False, possibly_sensitive=False, lang='pt'), contributors_enabled=False, is_translator=False, is_translation_enabled=False, profile_background_color='FFFFFF', profile_background_image_url='http://abs.twimg.com/images/themes/theme1/bg.png', profile_background_image_url_https='https://abs.twimg.com/images/themes/theme1/bg.png', profile_background_tile=False, profile_image_url='http://pbs.twimg.com/profile_images/1316303661224656896/KIJs0w9a_normal.jpg', profile_image_url_https='https://pbs.twimg.com/profile_images/1316303661224656896/KIJs0w9a_normal.jpg', profile_banner_url='https://pbs.twimg.com/profile_banners/14919552/1602666225', profile_link_color='0084B4', profile_sidebar_border_color='FFFFFF', profile_sidebar_fill_color='D8DCCF', profile_text_color='3848A0', profile_use_background_image=True, has_extended_profile=False, default_profile=False, default_profile_image=False, following=False, follow_request_sent=False, notifications=False, translator_type='none')"
      ]
     },
     "execution_count": 8,
     "metadata": {
      "tags": []
     },
     "output_type": "execute_result"
    }
   ],
   "source": [
    "detalles_cuenta_UOC "
   ]
  },
  {
   "cell_type": "markdown",
   "metadata": {
    "id": "KNqzvdMdAv5w"
   },
   "source": [
    "Después de observar qué forma tiene la respuesta recibida, para obtener y organizar la información de interés tendremos que ejecutar las siguientes lineas de código:"
   ]
  },
  {
   "cell_type": "code",
   "execution_count": null,
   "metadata": {
    "colab": {
     "base_uri": "https://localhost:8080/",
     "height": 102
    },
    "id": "SEf28OsRBEjF",
    "outputId": "f7f62bd2-dac5-48b5-cdaf-eea3375c10bf"
   },
   "outputs": [
    {
     "data": {
      "text/plain": [
       "{'UOCuniversitat': {'fecha_creacion': '2008-05-27 11:19:19',\n",
       "  'nombre': 'UOCuniversitat',\n",
       "  'seguidores': 36917,\n",
       "  'seguidos': 2794,\n",
       "  'ubicacion': 'Barcelona'}}"
      ]
     },
     "execution_count": 12,
     "metadata": {
      "tags": []
     },
     "output_type": "execute_result"
    }
   ],
   "source": [
    "dict_uoc={'UOCuniversitat': {'nombre': detalles_cuenta_UOC.name,\n",
    "                             'ubicacion': detalles_cuenta_UOC.location,\n",
    "                             'seguidores':detalles_cuenta_UOC.followers_count,\n",
    "                             'seguidos':detalles_cuenta_UOC.friends_count,\n",
    "                             'fecha_creacion':str(detalles_cuenta_UOC.created_at)}\n",
    "}\n",
    "dict_uoc"
   ]
  },
  {
   "cell_type": "markdown",
   "metadata": {
    "id": "mmz95MU4CAho"
   },
   "source": [
    "Ahora vamos a obtener la fecha del último tweet de la cuenta @UOCuniversitat:"
   ]
  },
  {
   "cell_type": "code",
   "execution_count": null,
   "metadata": {
    "id": "gGlC_RITCeXC"
   },
   "outputs": [],
   "source": [
    "tweets_uoc=auth_api.user_timeline(screen_name='UOCuniversitat')"
   ]
  },
  {
   "cell_type": "code",
   "execution_count": null,
   "metadata": {
    "colab": {
     "base_uri": "https://localhost:8080/",
     "height": 374
    },
    "id": "9HNsCYmaC6AP",
    "outputId": "d33816aa-61f6-4900-d48a-cf19e101b098"
   },
   "outputs": [
    {
     "name": "stdout",
     "output_type": "stream",
     "text": [
      "2020-10-21 20:23:50\n",
      "2020-10-21 17:15:17\n",
      "2020-10-21 16:30:52\n",
      "2020-10-21 16:04:36\n",
      "2020-10-21 15:43:08\n",
      "2020-10-21 15:40:49\n",
      "2020-10-21 15:36:23\n",
      "2020-10-21 15:25:12\n",
      "2020-10-21 15:24:40\n",
      "2020-10-21 15:24:03\n",
      "2020-10-21 15:22:57\n",
      "2020-10-21 15:15:10\n",
      "2020-10-21 15:10:12\n",
      "2020-10-21 15:03:21\n",
      "2020-10-21 14:45:41\n",
      "2020-10-21 14:20:24\n",
      "2020-10-21 14:20:14\n",
      "2020-10-21 14:17:21\n",
      "2020-10-21 14:15:28\n",
      "2020-10-21 14:09:31\n",
      "El Tweet más reciente tiene fecha de:  2020-10-21 20:23:50\n"
     ]
    }
   ],
   "source": [
    "fechas=[]\n",
    "\n",
    "for tweet in tweets_uoc:\n",
    "  fechas.append(tweet.created_at)\n",
    "\n",
    "print('El Tweet más reciente tiene fecha de: ', max(fechas))"
   ]
  },
  {
   "cell_type": "code",
   "execution_count": null,
   "metadata": {
    "colab": {
     "base_uri": "https://localhost:8080/",
     "height": 34
    },
    "id": "7fabj-PuDlI_",
    "outputId": "55271954-3a9c-48e6-f5d7-7896d88ed4ac"
   },
   "outputs": [
    {
     "data": {
      "text/plain": [
       "20"
      ]
     },
     "execution_count": 18,
     "metadata": {
      "tags": []
     },
     "output_type": "execute_result"
    }
   ],
   "source": [
    "len(tweets_uoc)"
   ]
  },
  {
   "cell_type": "markdown",
   "metadata": {
    "id": "OePF537MDrQV"
   },
   "source": [
    "**Observaciones:**\n",
    "\n",
    "- Por defecto, la función *user_timeline()* devuelve 20 instancias.\n",
    "- El nombre de usuario debe indicarse sin el símbolo '@'\n",
    "- La forma de la respuesta que devuelve la función *user_timeline()* és la siguiente:\n"
   ]
  },
  {
   "cell_type": "code",
   "execution_count": null,
   "metadata": {
    "colab": {
     "base_uri": "https://localhost:8080/",
     "height": 54
    },
    "id": "e4sXkclWEM1e",
    "outputId": "beafc4a3-91b8-4f22-f658-91b7d471153c"
   },
   "outputs": [
    {
     "data": {
      "text/plain": [
       "Status(_api=<tweepy.api.API object at 0x7f97ad5923c8>, _json={'created_at': 'Wed Oct 21 20:23:50 +0000 2020', 'id': 1319011535847641091, 'id_str': '1319011535847641091', 'text': 'RT @JosepMVilalta: Excel·lent xerrada de Sanjay Sarma, no us la perdeu! Enhorabona @UOCuniversitat https://t.co/jlvz4NfACa', 'truncated': False, 'entities': {'hashtags': [], 'symbols': [], 'user_mentions': [{'screen_name': 'JosepMVilalta', 'name': 'Josep M. Pep Vilalta', 'id': 1076441989, 'id_str': '1076441989', 'indices': [3, 17]}, {'screen_name': 'UOCuniversitat', 'name': 'UOCuniversitat', 'id': 14919552, 'id_str': '14919552', 'indices': [83, 98]}], 'urls': [{'url': 'https://t.co/jlvz4NfACa', 'expanded_url': 'https://twitter.com/uocuniversitat/status/1318930882598752259', 'display_url': 'twitter.com/uocuniversitat…', 'indices': [99, 122]}]}, 'source': '<a href=\"https://www.hootsuite.com\" rel=\"nofollow\">Hootsuite Inc.</a>', 'in_reply_to_status_id': None, 'in_reply_to_status_id_str': None, 'in_reply_to_user_id': None, 'in_reply_to_user_id_str': None, 'in_reply_to_screen_name': None, 'user': {'id': 14919552, 'id_str': '14919552', 'name': 'UOCuniversitat', 'screen_name': 'UOCuniversitat', 'location': 'Barcelona', 'description': \"Twitter oficial en català de la Universitat Oberta de Catalunya. En español: @UOCuniversidad. Servei d'atenció: @UOCrespon.\", 'url': 'https://t.co/Kz3lA2EQdz', 'entities': {'url': {'urls': [{'url': 'https://t.co/Kz3lA2EQdz', 'expanded_url': 'http://25.uoc.edu', 'display_url': '25.uoc.edu', 'indices': [0, 23]}]}, 'description': {'urls': []}}, 'protected': False, 'followers_count': 36917, 'friends_count': 2794, 'listed_count': 1091, 'created_at': 'Tue May 27 11:19:19 +0000 2008', 'favourites_count': 2802, 'utc_offset': None, 'time_zone': None, 'geo_enabled': True, 'verified': False, 'statuses_count': 26753, 'lang': None, 'contributors_enabled': False, 'is_translator': False, 'is_translation_enabled': False, 'profile_background_color': 'FFFFFF', 'profile_background_image_url': 'http://abs.twimg.com/images/themes/theme1/bg.png', 'profile_background_image_url_https': 'https://abs.twimg.com/images/themes/theme1/bg.png', 'profile_background_tile': False, 'profile_image_url': 'http://pbs.twimg.com/profile_images/1316303661224656896/KIJs0w9a_normal.jpg', 'profile_image_url_https': 'https://pbs.twimg.com/profile_images/1316303661224656896/KIJs0w9a_normal.jpg', 'profile_banner_url': 'https://pbs.twimg.com/profile_banners/14919552/1602666225', 'profile_link_color': '0084B4', 'profile_sidebar_border_color': 'FFFFFF', 'profile_sidebar_fill_color': 'D8DCCF', 'profile_text_color': '3848A0', 'profile_use_background_image': True, 'has_extended_profile': False, 'default_profile': False, 'default_profile_image': False, 'following': False, 'follow_request_sent': False, 'notifications': False, 'translator_type': 'none'}, 'geo': None, 'coordinates': None, 'place': None, 'contributors': None, 'retweeted_status': {'created_at': 'Wed Oct 21 19:37:32 +0000 2020', 'id': 1318999883248959490, 'id_str': '1318999883248959490', 'text': 'Excel·lent xerrada de Sanjay Sarma, no us la perdeu! Enhorabona @UOCuniversitat https://t.co/jlvz4NfACa', 'truncated': False, 'entities': {'hashtags': [], 'symbols': [], 'user_mentions': [{'screen_name': 'UOCuniversitat', 'name': 'UOCuniversitat', 'id': 14919552, 'id_str': '14919552', 'indices': [64, 79]}], 'urls': [{'url': 'https://t.co/jlvz4NfACa', 'expanded_url': 'https://twitter.com/uocuniversitat/status/1318930882598752259', 'display_url': 'twitter.com/uocuniversitat…', 'indices': [80, 103]}]}, 'source': '<a href=\"http://twitter.com/download/iphone\" rel=\"nofollow\">Twitter for iPhone</a>', 'in_reply_to_status_id': None, 'in_reply_to_status_id_str': None, 'in_reply_to_user_id': None, 'in_reply_to_user_id_str': None, 'in_reply_to_screen_name': None, 'user': {'id': 1076441989, 'id_str': '1076441989', 'name': 'Josep M. Pep Vilalta', 'screen_name': 'JosepMVilalta', 'location': 'Barcelona, Catalunya', 'description': 'Public policies & public management, education, universities, research and innovation', 'url': 'https://t.co/ZhXgxW93LR', 'entities': {'url': {'urls': [{'url': 'https://t.co/ZhXgxW93LR', 'expanded_url': 'http://www.josepmvilalta.com', 'display_url': 'josepmvilalta.com', 'indices': [0, 23]}]}, 'description': {'urls': []}}, 'protected': False, 'followers_count': 6468, 'friends_count': 2860, 'listed_count': 226, 'created_at': 'Thu Jan 10 12:05:04 +0000 2013', 'favourites_count': 33585, 'utc_offset': None, 'time_zone': None, 'geo_enabled': True, 'verified': False, 'statuses_count': 26551, 'lang': None, 'contributors_enabled': False, 'is_translator': False, 'is_translation_enabled': False, 'profile_background_color': 'C0DEED', 'profile_background_image_url': 'http://abs.twimg.com/images/themes/theme1/bg.png', 'profile_background_image_url_https': 'https://abs.twimg.com/images/themes/theme1/bg.png', 'profile_background_tile': False, 'profile_image_url': 'http://pbs.twimg.com/profile_images/1109001469238394880/5nv0jFOf_normal.jpg', 'profile_image_url_https': 'https://pbs.twimg.com/profile_images/1109001469238394880/5nv0jFOf_normal.jpg', 'profile_banner_url': 'https://pbs.twimg.com/profile_banners/1076441989/1479134150', 'profile_link_color': '1DA1F2', 'profile_sidebar_border_color': 'C0DEED', 'profile_sidebar_fill_color': 'DDEEF6', 'profile_text_color': '333333', 'profile_use_background_image': True, 'has_extended_profile': False, 'default_profile': True, 'default_profile_image': False, 'following': False, 'follow_request_sent': False, 'notifications': False, 'translator_type': 'none'}, 'geo': None, 'coordinates': None, 'place': None, 'contributors': None, 'is_quote_status': True, 'quoted_status_id': 1318930882598752259, 'quoted_status_id_str': '1318930882598752259', 'quoted_status': {'created_at': 'Wed Oct 21 15:03:21 +0000 2020', 'id': 1318930882598752259, 'id_str': '1318930882598752259', 'text': '🎓 En breu podreu recuperar la #InauguralUOC amb Sanjay Sarma, vicepresident del @mitopenlearning \"What is the Futur… https://t.co/Ajk5iccPQW', 'truncated': True, 'entities': {'hashtags': [{'text': 'InauguralUOC', 'indices': [30, 43]}], 'symbols': [], 'user_mentions': [{'screen_name': 'mitopenlearning', 'name': 'MIT Open Learning', 'id': 1006592770969088000, 'id_str': '1006592770969088000', 'indices': [80, 96]}], 'urls': [{'url': 'https://t.co/Ajk5iccPQW', 'expanded_url': 'https://twitter.com/i/web/status/1318930882598752259', 'display_url': 'twitter.com/i/web/status/1…', 'indices': [117, 140]}]}, 'source': '<a href=\"https://www.hootsuite.com\" rel=\"nofollow\">Hootsuite Inc.</a>', 'in_reply_to_status_id': None, 'in_reply_to_status_id_str': None, 'in_reply_to_user_id': None, 'in_reply_to_user_id_str': None, 'in_reply_to_screen_name': None, 'user': {'id': 14919552, 'id_str': '14919552', 'name': 'UOCuniversitat', 'screen_name': 'UOCuniversitat', 'location': 'Barcelona', 'description': \"Twitter oficial en català de la Universitat Oberta de Catalunya. En español: @UOCuniversidad. Servei d'atenció: @UOCrespon.\", 'url': 'https://t.co/Kz3lA2EQdz', 'entities': {'url': {'urls': [{'url': 'https://t.co/Kz3lA2EQdz', 'expanded_url': 'http://25.uoc.edu', 'display_url': '25.uoc.edu', 'indices': [0, 23]}]}, 'description': {'urls': []}}, 'protected': False, 'followers_count': 36917, 'friends_count': 2794, 'listed_count': 1091, 'created_at': 'Tue May 27 11:19:19 +0000 2008', 'favourites_count': 2802, 'utc_offset': None, 'time_zone': None, 'geo_enabled': True, 'verified': False, 'statuses_count': 26753, 'lang': None, 'contributors_enabled': False, 'is_translator': False, 'is_translation_enabled': False, 'profile_background_color': 'FFFFFF', 'profile_background_image_url': 'http://abs.twimg.com/images/themes/theme1/bg.png', 'profile_background_image_url_https': 'https://abs.twimg.com/images/themes/theme1/bg.png', 'profile_background_tile': False, 'profile_image_url': 'http://pbs.twimg.com/profile_images/1316303661224656896/KIJs0w9a_normal.jpg', 'profile_image_url_https': 'https://pbs.twimg.com/profile_images/1316303661224656896/KIJs0w9a_normal.jpg', 'profile_banner_url': 'https://pbs.twimg.com/profile_banners/14919552/1602666225', 'profile_link_color': '0084B4', 'profile_sidebar_border_color': 'FFFFFF', 'profile_sidebar_fill_color': 'D8DCCF', 'profile_text_color': '3848A0', 'profile_use_background_image': True, 'has_extended_profile': False, 'default_profile': False, 'default_profile_image': False, 'following': False, 'follow_request_sent': False, 'notifications': False, 'translator_type': 'none'}, 'geo': None, 'coordinates': None, 'place': None, 'contributors': None, 'is_quote_status': False, 'retweet_count': 1, 'favorite_count': 5, 'favorited': False, 'retweeted': False, 'possibly_sensitive': False, 'lang': 'ca'}, 'retweet_count': 1, 'favorite_count': 4, 'favorited': False, 'retweeted': False, 'possibly_sensitive': False, 'lang': 'pt'}, 'is_quote_status': True, 'quoted_status_id': 1318930882598752259, 'quoted_status_id_str': '1318930882598752259', 'retweet_count': 1, 'favorite_count': 0, 'favorited': False, 'retweeted': False, 'possibly_sensitive': False, 'lang': 'pt'}, created_at=datetime.datetime(2020, 10, 21, 20, 23, 50), id=1319011535847641091, id_str='1319011535847641091', text='RT @JosepMVilalta: Excel·lent xerrada de Sanjay Sarma, no us la perdeu! Enhorabona @UOCuniversitat https://t.co/jlvz4NfACa', truncated=False, entities={'hashtags': [], 'symbols': [], 'user_mentions': [{'screen_name': 'JosepMVilalta', 'name': 'Josep M. Pep Vilalta', 'id': 1076441989, 'id_str': '1076441989', 'indices': [3, 17]}, {'screen_name': 'UOCuniversitat', 'name': 'UOCuniversitat', 'id': 14919552, 'id_str': '14919552', 'indices': [83, 98]}], 'urls': [{'url': 'https://t.co/jlvz4NfACa', 'expanded_url': 'https://twitter.com/uocuniversitat/status/1318930882598752259', 'display_url': 'twitter.com/uocuniversitat…', 'indices': [99, 122]}]}, source='Hootsuite Inc.', source_url='https://www.hootsuite.com', in_reply_to_status_id=None, in_reply_to_status_id_str=None, in_reply_to_user_id=None, in_reply_to_user_id_str=None, in_reply_to_screen_name=None, author=User(_api=<tweepy.api.API object at 0x7f97ad5923c8>, _json={'id': 14919552, 'id_str': '14919552', 'name': 'UOCuniversitat', 'screen_name': 'UOCuniversitat', 'location': 'Barcelona', 'description': \"Twitter oficial en català de la Universitat Oberta de Catalunya. En español: @UOCuniversidad. Servei d'atenció: @UOCrespon.\", 'url': 'https://t.co/Kz3lA2EQdz', 'entities': {'url': {'urls': [{'url': 'https://t.co/Kz3lA2EQdz', 'expanded_url': 'http://25.uoc.edu', 'display_url': '25.uoc.edu', 'indices': [0, 23]}]}, 'description': {'urls': []}}, 'protected': False, 'followers_count': 36917, 'friends_count': 2794, 'listed_count': 1091, 'created_at': 'Tue May 27 11:19:19 +0000 2008', 'favourites_count': 2802, 'utc_offset': None, 'time_zone': None, 'geo_enabled': True, 'verified': False, 'statuses_count': 26753, 'lang': None, 'contributors_enabled': False, 'is_translator': False, 'is_translation_enabled': False, 'profile_background_color': 'FFFFFF', 'profile_background_image_url': 'http://abs.twimg.com/images/themes/theme1/bg.png', 'profile_background_image_url_https': 'https://abs.twimg.com/images/themes/theme1/bg.png', 'profile_background_tile': False, 'profile_image_url': 'http://pbs.twimg.com/profile_images/1316303661224656896/KIJs0w9a_normal.jpg', 'profile_image_url_https': 'https://pbs.twimg.com/profile_images/1316303661224656896/KIJs0w9a_normal.jpg', 'profile_banner_url': 'https://pbs.twimg.com/profile_banners/14919552/1602666225', 'profile_link_color': '0084B4', 'profile_sidebar_border_color': 'FFFFFF', 'profile_sidebar_fill_color': 'D8DCCF', 'profile_text_color': '3848A0', 'profile_use_background_image': True, 'has_extended_profile': False, 'default_profile': False, 'default_profile_image': False, 'following': False, 'follow_request_sent': False, 'notifications': False, 'translator_type': 'none'}, id=14919552, id_str='14919552', name='UOCuniversitat', screen_name='UOCuniversitat', location='Barcelona', description=\"Twitter oficial en català de la Universitat Oberta de Catalunya. En español: @UOCuniversidad. Servei d'atenció: @UOCrespon.\", url='https://t.co/Kz3lA2EQdz', entities={'url': {'urls': [{'url': 'https://t.co/Kz3lA2EQdz', 'expanded_url': 'http://25.uoc.edu', 'display_url': '25.uoc.edu', 'indices': [0, 23]}]}, 'description': {'urls': []}}, protected=False, followers_count=36917, friends_count=2794, listed_count=1091, created_at=datetime.datetime(2008, 5, 27, 11, 19, 19), favourites_count=2802, utc_offset=None, time_zone=None, geo_enabled=True, verified=False, statuses_count=26753, lang=None, contributors_enabled=False, is_translator=False, is_translation_enabled=False, profile_background_color='FFFFFF', profile_background_image_url='http://abs.twimg.com/images/themes/theme1/bg.png', profile_background_image_url_https='https://abs.twimg.com/images/themes/theme1/bg.png', profile_background_tile=False, profile_image_url='http://pbs.twimg.com/profile_images/1316303661224656896/KIJs0w9a_normal.jpg', profile_image_url_https='https://pbs.twimg.com/profile_images/1316303661224656896/KIJs0w9a_normal.jpg', profile_banner_url='https://pbs.twimg.com/profile_banners/14919552/1602666225', profile_link_color='0084B4', profile_sidebar_border_color='FFFFFF', profile_sidebar_fill_color='D8DCCF', profile_text_color='3848A0', profile_use_background_image=True, has_extended_profile=False, default_profile=False, default_profile_image=False, following=False, follow_request_sent=False, notifications=False, translator_type='none'), user=User(_api=<tweepy.api.API object at 0x7f97ad5923c8>, _json={'id': 14919552, 'id_str': '14919552', 'name': 'UOCuniversitat', 'screen_name': 'UOCuniversitat', 'location': 'Barcelona', 'description': \"Twitter oficial en català de la Universitat Oberta de Catalunya. En español: @UOCuniversidad. Servei d'atenció: @UOCrespon.\", 'url': 'https://t.co/Kz3lA2EQdz', 'entities': {'url': {'urls': [{'url': 'https://t.co/Kz3lA2EQdz', 'expanded_url': 'http://25.uoc.edu', 'display_url': '25.uoc.edu', 'indices': [0, 23]}]}, 'description': {'urls': []}}, 'protected': False, 'followers_count': 36917, 'friends_count': 2794, 'listed_count': 1091, 'created_at': 'Tue May 27 11:19:19 +0000 2008', 'favourites_count': 2802, 'utc_offset': None, 'time_zone': None, 'geo_enabled': True, 'verified': False, 'statuses_count': 26753, 'lang': None, 'contributors_enabled': False, 'is_translator': False, 'is_translation_enabled': False, 'profile_background_color': 'FFFFFF', 'profile_background_image_url': 'http://abs.twimg.com/images/themes/theme1/bg.png', 'profile_background_image_url_https': 'https://abs.twimg.com/images/themes/theme1/bg.png', 'profile_background_tile': False, 'profile_image_url': 'http://pbs.twimg.com/profile_images/1316303661224656896/KIJs0w9a_normal.jpg', 'profile_image_url_https': 'https://pbs.twimg.com/profile_images/1316303661224656896/KIJs0w9a_normal.jpg', 'profile_banner_url': 'https://pbs.twimg.com/profile_banners/14919552/1602666225', 'profile_link_color': '0084B4', 'profile_sidebar_border_color': 'FFFFFF', 'profile_sidebar_fill_color': 'D8DCCF', 'profile_text_color': '3848A0', 'profile_use_background_image': True, 'has_extended_profile': False, 'default_profile': False, 'default_profile_image': False, 'following': False, 'follow_request_sent': False, 'notifications': False, 'translator_type': 'none'}, id=14919552, id_str='14919552', name='UOCuniversitat', screen_name='UOCuniversitat', location='Barcelona', description=\"Twitter oficial en català de la Universitat Oberta de Catalunya. En español: @UOCuniversidad. Servei d'atenció: @UOCrespon.\", url='https://t.co/Kz3lA2EQdz', entities={'url': {'urls': [{'url': 'https://t.co/Kz3lA2EQdz', 'expanded_url': 'http://25.uoc.edu', 'display_url': '25.uoc.edu', 'indices': [0, 23]}]}, 'description': {'urls': []}}, protected=False, followers_count=36917, friends_count=2794, listed_count=1091, created_at=datetime.datetime(2008, 5, 27, 11, 19, 19), favourites_count=2802, utc_offset=None, time_zone=None, geo_enabled=True, verified=False, statuses_count=26753, lang=None, contributors_enabled=False, is_translator=False, is_translation_enabled=False, profile_background_color='FFFFFF', profile_background_image_url='http://abs.twimg.com/images/themes/theme1/bg.png', profile_background_image_url_https='https://abs.twimg.com/images/themes/theme1/bg.png', profile_background_tile=False, profile_image_url='http://pbs.twimg.com/profile_images/1316303661224656896/KIJs0w9a_normal.jpg', profile_image_url_https='https://pbs.twimg.com/profile_images/1316303661224656896/KIJs0w9a_normal.jpg', profile_banner_url='https://pbs.twimg.com/profile_banners/14919552/1602666225', profile_link_color='0084B4', profile_sidebar_border_color='FFFFFF', profile_sidebar_fill_color='D8DCCF', profile_text_color='3848A0', profile_use_background_image=True, has_extended_profile=False, default_profile=False, default_profile_image=False, following=False, follow_request_sent=False, notifications=False, translator_type='none'), geo=None, coordinates=None, place=None, contributors=None, retweeted_status=Status(_api=<tweepy.api.API object at 0x7f97ad5923c8>, _json={'created_at': 'Wed Oct 21 19:37:32 +0000 2020', 'id': 1318999883248959490, 'id_str': '1318999883248959490', 'text': 'Excel·lent xerrada de Sanjay Sarma, no us la perdeu! Enhorabona @UOCuniversitat https://t.co/jlvz4NfACa', 'truncated': False, 'entities': {'hashtags': [], 'symbols': [], 'user_mentions': [{'screen_name': 'UOCuniversitat', 'name': 'UOCuniversitat', 'id': 14919552, 'id_str': '14919552', 'indices': [64, 79]}], 'urls': [{'url': 'https://t.co/jlvz4NfACa', 'expanded_url': 'https://twitter.com/uocuniversitat/status/1318930882598752259', 'display_url': 'twitter.com/uocuniversitat…', 'indices': [80, 103]}]}, 'source': '<a href=\"http://twitter.com/download/iphone\" rel=\"nofollow\">Twitter for iPhone</a>', 'in_reply_to_status_id': None, 'in_reply_to_status_id_str': None, 'in_reply_to_user_id': None, 'in_reply_to_user_id_str': None, 'in_reply_to_screen_name': None, 'user': {'id': 1076441989, 'id_str': '1076441989', 'name': 'Josep M. Pep Vilalta', 'screen_name': 'JosepMVilalta', 'location': 'Barcelona, Catalunya', 'description': 'Public policies & public management, education, universities, research and innovation', 'url': 'https://t.co/ZhXgxW93LR', 'entities': {'url': {'urls': [{'url': 'https://t.co/ZhXgxW93LR', 'expanded_url': 'http://www.josepmvilalta.com', 'display_url': 'josepmvilalta.com', 'indices': [0, 23]}]}, 'description': {'urls': []}}, 'protected': False, 'followers_count': 6468, 'friends_count': 2860, 'listed_count': 226, 'created_at': 'Thu Jan 10 12:05:04 +0000 2013', 'favourites_count': 33585, 'utc_offset': None, 'time_zone': None, 'geo_enabled': True, 'verified': False, 'statuses_count': 26551, 'lang': None, 'contributors_enabled': False, 'is_translator': False, 'is_translation_enabled': False, 'profile_background_color': 'C0DEED', 'profile_background_image_url': 'http://abs.twimg.com/images/themes/theme1/bg.png', 'profile_background_image_url_https': 'https://abs.twimg.com/images/themes/theme1/bg.png', 'profile_background_tile': False, 'profile_image_url': 'http://pbs.twimg.com/profile_images/1109001469238394880/5nv0jFOf_normal.jpg', 'profile_image_url_https': 'https://pbs.twimg.com/profile_images/1109001469238394880/5nv0jFOf_normal.jpg', 'profile_banner_url': 'https://pbs.twimg.com/profile_banners/1076441989/1479134150', 'profile_link_color': '1DA1F2', 'profile_sidebar_border_color': 'C0DEED', 'profile_sidebar_fill_color': 'DDEEF6', 'profile_text_color': '333333', 'profile_use_background_image': True, 'has_extended_profile': False, 'default_profile': True, 'default_profile_image': False, 'following': False, 'follow_request_sent': False, 'notifications': False, 'translator_type': 'none'}, 'geo': None, 'coordinates': None, 'place': None, 'contributors': None, 'is_quote_status': True, 'quoted_status_id': 1318930882598752259, 'quoted_status_id_str': '1318930882598752259', 'quoted_status': {'created_at': 'Wed Oct 21 15:03:21 +0000 2020', 'id': 1318930882598752259, 'id_str': '1318930882598752259', 'text': '🎓 En breu podreu recuperar la #InauguralUOC amb Sanjay Sarma, vicepresident del @mitopenlearning \"What is the Futur… https://t.co/Ajk5iccPQW', 'truncated': True, 'entities': {'hashtags': [{'text': 'InauguralUOC', 'indices': [30, 43]}], 'symbols': [], 'user_mentions': [{'screen_name': 'mitopenlearning', 'name': 'MIT Open Learning', 'id': 1006592770969088000, 'id_str': '1006592770969088000', 'indices': [80, 96]}], 'urls': [{'url': 'https://t.co/Ajk5iccPQW', 'expanded_url': 'https://twitter.com/i/web/status/1318930882598752259', 'display_url': 'twitter.com/i/web/status/1…', 'indices': [117, 140]}]}, 'source': '<a href=\"https://www.hootsuite.com\" rel=\"nofollow\">Hootsuite Inc.</a>', 'in_reply_to_status_id': None, 'in_reply_to_status_id_str': None, 'in_reply_to_user_id': None, 'in_reply_to_user_id_str': None, 'in_reply_to_screen_name': None, 'user': {'id': 14919552, 'id_str': '14919552', 'name': 'UOCuniversitat', 'screen_name': 'UOCuniversitat', 'location': 'Barcelona', 'description': \"Twitter oficial en català de la Universitat Oberta de Catalunya. En español: @UOCuniversidad. Servei d'atenció: @UOCrespon.\", 'url': 'https://t.co/Kz3lA2EQdz', 'entities': {'url': {'urls': [{'url': 'https://t.co/Kz3lA2EQdz', 'expanded_url': 'http://25.uoc.edu', 'display_url': '25.uoc.edu', 'indices': [0, 23]}]}, 'description': {'urls': []}}, 'protected': False, 'followers_count': 36917, 'friends_count': 2794, 'listed_count': 1091, 'created_at': 'Tue May 27 11:19:19 +0000 2008', 'favourites_count': 2802, 'utc_offset': None, 'time_zone': None, 'geo_enabled': True, 'verified': False, 'statuses_count': 26753, 'lang': None, 'contributors_enabled': False, 'is_translator': False, 'is_translation_enabled': False, 'profile_background_color': 'FFFFFF', 'profile_background_image_url': 'http://abs.twimg.com/images/themes/theme1/bg.png', 'profile_background_image_url_https': 'https://abs.twimg.com/images/themes/theme1/bg.png', 'profile_background_tile': False, 'profile_image_url': 'http://pbs.twimg.com/profile_images/1316303661224656896/KIJs0w9a_normal.jpg', 'profile_image_url_https': 'https://pbs.twimg.com/profile_images/1316303661224656896/KIJs0w9a_normal.jpg', 'profile_banner_url': 'https://pbs.twimg.com/profile_banners/14919552/1602666225', 'profile_link_color': '0084B4', 'profile_sidebar_border_color': 'FFFFFF', 'profile_sidebar_fill_color': 'D8DCCF', 'profile_text_color': '3848A0', 'profile_use_background_image': True, 'has_extended_profile': False, 'default_profile': False, 'default_profile_image': False, 'following': False, 'follow_request_sent': False, 'notifications': False, 'translator_type': 'none'}, 'geo': None, 'coordinates': None, 'place': None, 'contributors': None, 'is_quote_status': False, 'retweet_count': 1, 'favorite_count': 5, 'favorited': False, 'retweeted': False, 'possibly_sensitive': False, 'lang': 'ca'}, 'retweet_count': 1, 'favorite_count': 4, 'favorited': False, 'retweeted': False, 'possibly_sensitive': False, 'lang': 'pt'}, created_at=datetime.datetime(2020, 10, 21, 19, 37, 32), id=1318999883248959490, id_str='1318999883248959490', text='Excel·lent xerrada de Sanjay Sarma, no us la perdeu! Enhorabona @UOCuniversitat https://t.co/jlvz4NfACa', truncated=False, entities={'hashtags': [], 'symbols': [], 'user_mentions': [{'screen_name': 'UOCuniversitat', 'name': 'UOCuniversitat', 'id': 14919552, 'id_str': '14919552', 'indices': [64, 79]}], 'urls': [{'url': 'https://t.co/jlvz4NfACa', 'expanded_url': 'https://twitter.com/uocuniversitat/status/1318930882598752259', 'display_url': 'twitter.com/uocuniversitat…', 'indices': [80, 103]}]}, source='Twitter for iPhone', source_url='http://twitter.com/download/iphone', in_reply_to_status_id=None, in_reply_to_status_id_str=None, in_reply_to_user_id=None, in_reply_to_user_id_str=None, in_reply_to_screen_name=None, author=User(_api=<tweepy.api.API object at 0x7f97ad5923c8>, _json={'id': 1076441989, 'id_str': '1076441989', 'name': 'Josep M. Pep Vilalta', 'screen_name': 'JosepMVilalta', 'location': 'Barcelona, Catalunya', 'description': 'Public policies & public management, education, universities, research and innovation', 'url': 'https://t.co/ZhXgxW93LR', 'entities': {'url': {'urls': [{'url': 'https://t.co/ZhXgxW93LR', 'expanded_url': 'http://www.josepmvilalta.com', 'display_url': 'josepmvilalta.com', 'indices': [0, 23]}]}, 'description': {'urls': []}}, 'protected': False, 'followers_count': 6468, 'friends_count': 2860, 'listed_count': 226, 'created_at': 'Thu Jan 10 12:05:04 +0000 2013', 'favourites_count': 33585, 'utc_offset': None, 'time_zone': None, 'geo_enabled': True, 'verified': False, 'statuses_count': 26551, 'lang': None, 'contributors_enabled': False, 'is_translator': False, 'is_translation_enabled': False, 'profile_background_color': 'C0DEED', 'profile_background_image_url': 'http://abs.twimg.com/images/themes/theme1/bg.png', 'profile_background_image_url_https': 'https://abs.twimg.com/images/themes/theme1/bg.png', 'profile_background_tile': False, 'profile_image_url': 'http://pbs.twimg.com/profile_images/1109001469238394880/5nv0jFOf_normal.jpg', 'profile_image_url_https': 'https://pbs.twimg.com/profile_images/1109001469238394880/5nv0jFOf_normal.jpg', 'profile_banner_url': 'https://pbs.twimg.com/profile_banners/1076441989/1479134150', 'profile_link_color': '1DA1F2', 'profile_sidebar_border_color': 'C0DEED', 'profile_sidebar_fill_color': 'DDEEF6', 'profile_text_color': '333333', 'profile_use_background_image': True, 'has_extended_profile': False, 'default_profile': True, 'default_profile_image': False, 'following': False, 'follow_request_sent': False, 'notifications': False, 'translator_type': 'none'}, id=1076441989, id_str='1076441989', name='Josep M. Pep Vilalta', screen_name='JosepMVilalta', location='Barcelona, Catalunya', description='Public policies & public management, education, universities, research and innovation', url='https://t.co/ZhXgxW93LR', entities={'url': {'urls': [{'url': 'https://t.co/ZhXgxW93LR', 'expanded_url': 'http://www.josepmvilalta.com', 'display_url': 'josepmvilalta.com', 'indices': [0, 23]}]}, 'description': {'urls': []}}, protected=False, followers_count=6468, friends_count=2860, listed_count=226, created_at=datetime.datetime(2013, 1, 10, 12, 5, 4), favourites_count=33585, utc_offset=None, time_zone=None, geo_enabled=True, verified=False, statuses_count=26551, lang=None, contributors_enabled=False, is_translator=False, is_translation_enabled=False, profile_background_color='C0DEED', profile_background_image_url='http://abs.twimg.com/images/themes/theme1/bg.png', profile_background_image_url_https='https://abs.twimg.com/images/themes/theme1/bg.png', profile_background_tile=False, profile_image_url='http://pbs.twimg.com/profile_images/1109001469238394880/5nv0jFOf_normal.jpg', profile_image_url_https='https://pbs.twimg.com/profile_images/1109001469238394880/5nv0jFOf_normal.jpg', profile_banner_url='https://pbs.twimg.com/profile_banners/1076441989/1479134150', profile_link_color='1DA1F2', profile_sidebar_border_color='C0DEED', profile_sidebar_fill_color='DDEEF6', profile_text_color='333333', profile_use_background_image=True, has_extended_profile=False, default_profile=True, default_profile_image=False, following=False, follow_request_sent=False, notifications=False, translator_type='none'), user=User(_api=<tweepy.api.API object at 0x7f97ad5923c8>, _json={'id': 1076441989, 'id_str': '1076441989', 'name': 'Josep M. Pep Vilalta', 'screen_name': 'JosepMVilalta', 'location': 'Barcelona, Catalunya', 'description': 'Public policies & public management, education, universities, research and innovation', 'url': 'https://t.co/ZhXgxW93LR', 'entities': {'url': {'urls': [{'url': 'https://t.co/ZhXgxW93LR', 'expanded_url': 'http://www.josepmvilalta.com', 'display_url': 'josepmvilalta.com', 'indices': [0, 23]}]}, 'description': {'urls': []}}, 'protected': False, 'followers_count': 6468, 'friends_count': 2860, 'listed_count': 226, 'created_at': 'Thu Jan 10 12:05:04 +0000 2013', 'favourites_count': 33585, 'utc_offset': None, 'time_zone': None, 'geo_enabled': True, 'verified': False, 'statuses_count': 26551, 'lang': None, 'contributors_enabled': False, 'is_translator': False, 'is_translation_enabled': False, 'profile_background_color': 'C0DEED', 'profile_background_image_url': 'http://abs.twimg.com/images/themes/theme1/bg.png', 'profile_background_image_url_https': 'https://abs.twimg.com/images/themes/theme1/bg.png', 'profile_background_tile': False, 'profile_image_url': 'http://pbs.twimg.com/profile_images/1109001469238394880/5nv0jFOf_normal.jpg', 'profile_image_url_https': 'https://pbs.twimg.com/profile_images/1109001469238394880/5nv0jFOf_normal.jpg', 'profile_banner_url': 'https://pbs.twimg.com/profile_banners/1076441989/1479134150', 'profile_link_color': '1DA1F2', 'profile_sidebar_border_color': 'C0DEED', 'profile_sidebar_fill_color': 'DDEEF6', 'profile_text_color': '333333', 'profile_use_background_image': True, 'has_extended_profile': False, 'default_profile': True, 'default_profile_image': False, 'following': False, 'follow_request_sent': False, 'notifications': False, 'translator_type': 'none'}, id=1076441989, id_str='1076441989', name='Josep M. Pep Vilalta', screen_name='JosepMVilalta', location='Barcelona, Catalunya', description='Public policies & public management, education, universities, research and innovation', url='https://t.co/ZhXgxW93LR', entities={'url': {'urls': [{'url': 'https://t.co/ZhXgxW93LR', 'expanded_url': 'http://www.josepmvilalta.com', 'display_url': 'josepmvilalta.com', 'indices': [0, 23]}]}, 'description': {'urls': []}}, protected=False, followers_count=6468, friends_count=2860, listed_count=226, created_at=datetime.datetime(2013, 1, 10, 12, 5, 4), favourites_count=33585, utc_offset=None, time_zone=None, geo_enabled=True, verified=False, statuses_count=26551, lang=None, contributors_enabled=False, is_translator=False, is_translation_enabled=False, profile_background_color='C0DEED', profile_background_image_url='http://abs.twimg.com/images/themes/theme1/bg.png', profile_background_image_url_https='https://abs.twimg.com/images/themes/theme1/bg.png', profile_background_tile=False, profile_image_url='http://pbs.twimg.com/profile_images/1109001469238394880/5nv0jFOf_normal.jpg', profile_image_url_https='https://pbs.twimg.com/profile_images/1109001469238394880/5nv0jFOf_normal.jpg', profile_banner_url='https://pbs.twimg.com/profile_banners/1076441989/1479134150', profile_link_color='1DA1F2', profile_sidebar_border_color='C0DEED', profile_sidebar_fill_color='DDEEF6', profile_text_color='333333', profile_use_background_image=True, has_extended_profile=False, default_profile=True, default_profile_image=False, following=False, follow_request_sent=False, notifications=False, translator_type='none'), geo=None, coordinates=None, place=None, contributors=None, is_quote_status=True, quoted_status_id=1318930882598752259, quoted_status_id_str='1318930882598752259', quoted_status=Status(_api=<tweepy.api.API object at 0x7f97ad5923c8>, _json={'created_at': 'Wed Oct 21 15:03:21 +0000 2020', 'id': 1318930882598752259, 'id_str': '1318930882598752259', 'text': '🎓 En breu podreu recuperar la #InauguralUOC amb Sanjay Sarma, vicepresident del @mitopenlearning \"What is the Futur… https://t.co/Ajk5iccPQW', 'truncated': True, 'entities': {'hashtags': [{'text': 'InauguralUOC', 'indices': [30, 43]}], 'symbols': [], 'user_mentions': [{'screen_name': 'mitopenlearning', 'name': 'MIT Open Learning', 'id': 1006592770969088000, 'id_str': '1006592770969088000', 'indices': [80, 96]}], 'urls': [{'url': 'https://t.co/Ajk5iccPQW', 'expanded_url': 'https://twitter.com/i/web/status/1318930882598752259', 'display_url': 'twitter.com/i/web/status/1…', 'indices': [117, 140]}]}, 'source': '<a href=\"https://www.hootsuite.com\" rel=\"nofollow\">Hootsuite Inc.</a>', 'in_reply_to_status_id': None, 'in_reply_to_status_id_str': None, 'in_reply_to_user_id': None, 'in_reply_to_user_id_str': None, 'in_reply_to_screen_name': None, 'user': {'id': 14919552, 'id_str': '14919552', 'name': 'UOCuniversitat', 'screen_name': 'UOCuniversitat', 'location': 'Barcelona', 'description': \"Twitter oficial en català de la Universitat Oberta de Catalunya. En español: @UOCuniversidad. Servei d'atenció: @UOCrespon.\", 'url': 'https://t.co/Kz3lA2EQdz', 'entities': {'url': {'urls': [{'url': 'https://t.co/Kz3lA2EQdz', 'expanded_url': 'http://25.uoc.edu', 'display_url': '25.uoc.edu', 'indices': [0, 23]}]}, 'description': {'urls': []}}, 'protected': False, 'followers_count': 36917, 'friends_count': 2794, 'listed_count': 1091, 'created_at': 'Tue May 27 11:19:19 +0000 2008', 'favourites_count': 2802, 'utc_offset': None, 'time_zone': None, 'geo_enabled': True, 'verified': False, 'statuses_count': 26753, 'lang': None, 'contributors_enabled': False, 'is_translator': False, 'is_translation_enabled': False, 'profile_background_color': 'FFFFFF', 'profile_background_image_url': 'http://abs.twimg.com/images/themes/theme1/bg.png', 'profile_background_image_url_https': 'https://abs.twimg.com/images/themes/theme1/bg.png', 'profile_background_tile': False, 'profile_image_url': 'http://pbs.twimg.com/profile_images/1316303661224656896/KIJs0w9a_normal.jpg', 'profile_image_url_https': 'https://pbs.twimg.com/profile_images/1316303661224656896/KIJs0w9a_normal.jpg', 'profile_banner_url': 'https://pbs.twimg.com/profile_banners/14919552/1602666225', 'profile_link_color': '0084B4', 'profile_sidebar_border_color': 'FFFFFF', 'profile_sidebar_fill_color': 'D8DCCF', 'profile_text_color': '3848A0', 'profile_use_background_image': True, 'has_extended_profile': False, 'default_profile': False, 'default_profile_image': False, 'following': False, 'follow_request_sent': False, 'notifications': False, 'translator_type': 'none'}, 'geo': None, 'coordinates': None, 'place': None, 'contributors': None, 'is_quote_status': False, 'retweet_count': 1, 'favorite_count': 5, 'favorited': False, 'retweeted': False, 'possibly_sensitive': False, 'lang': 'ca'}, created_at=datetime.datetime(2020, 10, 21, 15, 3, 21), id=1318930882598752259, id_str='1318930882598752259', text='🎓 En breu podreu recuperar la #InauguralUOC amb Sanjay Sarma, vicepresident del @mitopenlearning \"What is the Futur… https://t.co/Ajk5iccPQW', truncated=True, entities={'hashtags': [{'text': 'InauguralUOC', 'indices': [30, 43]}], 'symbols': [], 'user_mentions': [{'screen_name': 'mitopenlearning', 'name': 'MIT Open Learning', 'id': 1006592770969088000, 'id_str': '1006592770969088000', 'indices': [80, 96]}], 'urls': [{'url': 'https://t.co/Ajk5iccPQW', 'expanded_url': 'https://twitter.com/i/web/status/1318930882598752259', 'display_url': 'twitter.com/i/web/status/1…', 'indices': [117, 140]}]}, source='Hootsuite Inc.', source_url='https://www.hootsuite.com', in_reply_to_status_id=None, in_reply_to_status_id_str=None, in_reply_to_user_id=None, in_reply_to_user_id_str=None, in_reply_to_screen_name=None, author=User(_api=<tweepy.api.API object at 0x7f97ad5923c8>, _json={'id': 14919552, 'id_str': '14919552', 'name': 'UOCuniversitat', 'screen_name': 'UOCuniversitat', 'location': 'Barcelona', 'description': \"Twitter oficial en català de la Universitat Oberta de Catalunya. En español: @UOCuniversidad. Servei d'atenció: @UOCrespon.\", 'url': 'https://t.co/Kz3lA2EQdz', 'entities': {'url': {'urls': [{'url': 'https://t.co/Kz3lA2EQdz', 'expanded_url': 'http://25.uoc.edu', 'display_url': '25.uoc.edu', 'indices': [0, 23]}]}, 'description': {'urls': []}}, 'protected': False, 'followers_count': 36917, 'friends_count': 2794, 'listed_count': 1091, 'created_at': 'Tue May 27 11:19:19 +0000 2008', 'favourites_count': 2802, 'utc_offset': None, 'time_zone': None, 'geo_enabled': True, 'verified': False, 'statuses_count': 26753, 'lang': None, 'contributors_enabled': False, 'is_translator': False, 'is_translation_enabled': False, 'profile_background_color': 'FFFFFF', 'profile_background_image_url': 'http://abs.twimg.com/images/themes/theme1/bg.png', 'profile_background_image_url_https': 'https://abs.twimg.com/images/themes/theme1/bg.png', 'profile_background_tile': False, 'profile_image_url': 'http://pbs.twimg.com/profile_images/1316303661224656896/KIJs0w9a_normal.jpg', 'profile_image_url_https': 'https://pbs.twimg.com/profile_images/1316303661224656896/KIJs0w9a_normal.jpg', 'profile_banner_url': 'https://pbs.twimg.com/profile_banners/14919552/1602666225', 'profile_link_color': '0084B4', 'profile_sidebar_border_color': 'FFFFFF', 'profile_sidebar_fill_color': 'D8DCCF', 'profile_text_color': '3848A0', 'profile_use_background_image': True, 'has_extended_profile': False, 'default_profile': False, 'default_profile_image': False, 'following': False, 'follow_request_sent': False, 'notifications': False, 'translator_type': 'none'}, id=14919552, id_str='14919552', name='UOCuniversitat', screen_name='UOCuniversitat', location='Barcelona', description=\"Twitter oficial en català de la Universitat Oberta de Catalunya. En español: @UOCuniversidad. Servei d'atenció: @UOCrespon.\", url='https://t.co/Kz3lA2EQdz', entities={'url': {'urls': [{'url': 'https://t.co/Kz3lA2EQdz', 'expanded_url': 'http://25.uoc.edu', 'display_url': '25.uoc.edu', 'indices': [0, 23]}]}, 'description': {'urls': []}}, protected=False, followers_count=36917, friends_count=2794, listed_count=1091, created_at=datetime.datetime(2008, 5, 27, 11, 19, 19), favourites_count=2802, utc_offset=None, time_zone=None, geo_enabled=True, verified=False, statuses_count=26753, lang=None, contributors_enabled=False, is_translator=False, is_translation_enabled=False, profile_background_color='FFFFFF', profile_background_image_url='http://abs.twimg.com/images/themes/theme1/bg.png', profile_background_image_url_https='https://abs.twimg.com/images/themes/theme1/bg.png', profile_background_tile=False, profile_image_url='http://pbs.twimg.com/profile_images/1316303661224656896/KIJs0w9a_normal.jpg', profile_image_url_https='https://pbs.twimg.com/profile_images/1316303661224656896/KIJs0w9a_normal.jpg', profile_banner_url='https://pbs.twimg.com/profile_banners/14919552/1602666225', profile_link_color='0084B4', profile_sidebar_border_color='FFFFFF', profile_sidebar_fill_color='D8DCCF', profile_text_color='3848A0', profile_use_background_image=True, has_extended_profile=False, default_profile=False, default_profile_image=False, following=False, follow_request_sent=False, notifications=False, translator_type='none'), user=User(_api=<tweepy.api.API object at 0x7f97ad5923c8>, _json={'id': 14919552, 'id_str': '14919552', 'name': 'UOCuniversitat', 'screen_name': 'UOCuniversitat', 'location': 'Barcelona', 'description': \"Twitter oficial en català de la Universitat Oberta de Catalunya. En español: @UOCuniversidad. Servei d'atenció: @UOCrespon.\", 'url': 'https://t.co/Kz3lA2EQdz', 'entities': {'url': {'urls': [{'url': 'https://t.co/Kz3lA2EQdz', 'expanded_url': 'http://25.uoc.edu', 'display_url': '25.uoc.edu', 'indices': [0, 23]}]}, 'description': {'urls': []}}, 'protected': False, 'followers_count': 36917, 'friends_count': 2794, 'listed_count': 1091, 'created_at': 'Tue May 27 11:19:19 +0000 2008', 'favourites_count': 2802, 'utc_offset': None, 'time_zone': None, 'geo_enabled': True, 'verified': False, 'statuses_count': 26753, 'lang': None, 'contributors_enabled': False, 'is_translator': False, 'is_translation_enabled': False, 'profile_background_color': 'FFFFFF', 'profile_background_image_url': 'http://abs.twimg.com/images/themes/theme1/bg.png', 'profile_background_image_url_https': 'https://abs.twimg.com/images/themes/theme1/bg.png', 'profile_background_tile': False, 'profile_image_url': 'http://pbs.twimg.com/profile_images/1316303661224656896/KIJs0w9a_normal.jpg', 'profile_image_url_https': 'https://pbs.twimg.com/profile_images/1316303661224656896/KIJs0w9a_normal.jpg', 'profile_banner_url': 'https://pbs.twimg.com/profile_banners/14919552/1602666225', 'profile_link_color': '0084B4', 'profile_sidebar_border_color': 'FFFFFF', 'profile_sidebar_fill_color': 'D8DCCF', 'profile_text_color': '3848A0', 'profile_use_background_image': True, 'has_extended_profile': False, 'default_profile': False, 'default_profile_image': False, 'following': False, 'follow_request_sent': False, 'notifications': False, 'translator_type': 'none'}, id=14919552, id_str='14919552', name='UOCuniversitat', screen_name='UOCuniversitat', location='Barcelona', description=\"Twitter oficial en català de la Universitat Oberta de Catalunya. En español: @UOCuniversidad. Servei d'atenció: @UOCrespon.\", url='https://t.co/Kz3lA2EQdz', entities={'url': {'urls': [{'url': 'https://t.co/Kz3lA2EQdz', 'expanded_url': 'http://25.uoc.edu', 'display_url': '25.uoc.edu', 'indices': [0, 23]}]}, 'description': {'urls': []}}, protected=False, followers_count=36917, friends_count=2794, listed_count=1091, created_at=datetime.datetime(2008, 5, 27, 11, 19, 19), favourites_count=2802, utc_offset=None, time_zone=None, geo_enabled=True, verified=False, statuses_count=26753, lang=None, contributors_enabled=False, is_translator=False, is_translation_enabled=False, profile_background_color='FFFFFF', profile_background_image_url='http://abs.twimg.com/images/themes/theme1/bg.png', profile_background_image_url_https='https://abs.twimg.com/images/themes/theme1/bg.png', profile_background_tile=False, profile_image_url='http://pbs.twimg.com/profile_images/1316303661224656896/KIJs0w9a_normal.jpg', profile_image_url_https='https://pbs.twimg.com/profile_images/1316303661224656896/KIJs0w9a_normal.jpg', profile_banner_url='https://pbs.twimg.com/profile_banners/14919552/1602666225', profile_link_color='0084B4', profile_sidebar_border_color='FFFFFF', profile_sidebar_fill_color='D8DCCF', profile_text_color='3848A0', profile_use_background_image=True, has_extended_profile=False, default_profile=False, default_profile_image=False, following=False, follow_request_sent=False, notifications=False, translator_type='none'), geo=None, coordinates=None, place=None, contributors=None, is_quote_status=False, retweet_count=1, favorite_count=5, favorited=False, retweeted=False, possibly_sensitive=False, lang='ca'), retweet_count=1, favorite_count=4, favorited=False, retweeted=False, possibly_sensitive=False, lang='pt'), is_quote_status=True, quoted_status_id=1318930882598752259, quoted_status_id_str='1318930882598752259', retweet_count=1, favorite_count=0, favorited=False, retweeted=False, possibly_sensitive=False, lang='pt')"
      ]
     },
     "execution_count": 19,
     "metadata": {
      "tags": []
     },
     "output_type": "execute_result"
    }
   ],
   "source": [
    "tweets_uoc[0]"
   ]
  },
  {
   "cell_type": "markdown",
   "metadata": {
    "id": "g_JBZ3JjEgmi"
   },
   "source": [
    "> Si nos fijamos, se puede conocer si el tweet contiene algún hashtag obteniendo el contenido de _.entities ['hashtag']_"
   ]
  },
  {
   "cell_type": "markdown",
   "metadata": {
    "id": "ZYIvtVsuFTrD"
   },
   "source": [
    "### **Ejercicio práctico 1 (Twitter)** "
   ]
  },
  {
   "cell_type": "markdown",
   "metadata": {
    "id": "96IdNyd7Ge11"
   },
   "source": [
    "En este ejercicio se pide que se obtenga información de las cuentas de Twiteer de los 20 perfiles que en 2021 fueron considerados los más influyentes en Twitter segun Brandwatch, información disponible en la siguiente página web https://www.thetealmango.com/featured/top-50-most-influential-people-on-twitter/. (En esta página se muestran 50, pero nos quedaremos con los top20).\n",
    "\n",
    "Para su consecución, este ejercicio se divide en tres partes: La primera relativa a la obtención de las cuentas que vamos a inverstigar; la segunda relativa a la obtención de información de estas cuentas en Twitter y la tercera relativa a la obtención de Hashtags (tendencias) entre estos usuarios.\n",
    "\n",
    "**PARTE 1:** Web Scraping de https://www.thetealmango.com/featured/top-50-most-influential-people-on-twitter/ para obtener los usuarios.\n",
    "\n",
    "- El objetivo es scrapear el nombre de los usuarios más influyentes en Twitter durante el 2021. Para ello, se recomienda que se utilize la librería _BeautifulSoap_ y se siga el proceso de web scraping de forma análoga a como se realizó en la PEC anterior. Una vez obtenidos los usuarios (estos se corresponden con los valores de la columna 'Handle' de la tabla), crear una lista que contenga los usuarios top20 (los 20 primeros usuarios de la lista), la cual será utilizada en la siguiente parte. A los nombre de usuarios hay que eliminar el simbolo '@' para poder ser utilizados en la parte 2.\n",
    "\n",
    "**PARTE 2:** Web Scraping en Twitter para obtener la información de las cuentas de los 20 usuarios obtenidos en la parte anterior y la información de sus 20 últimos tweets. En este caso, se utilizará la librería vista en el ejemplo anterior (_tweepy_)\n",
    "\n",
    "- La información que se solicita conocer de cada una de las 20 cuentas es la siguiente: nombre ('name'), usuario ('screen_name'), ubicación ('location'), fecha de creación de la cuenta ('created_at'), número de seguidores ('followers_count'), número de amigos o seguidos ('friends_count').\n",
    "\n",
    "- Una vez obtenidos los datos, estos deberan ser organizados en un dataframe, de forma que cada columna sea un campo de los anteriores y cada fila haga referencia a cada uno de los usuarios. \n",
    "\n",
    "- Cuando esté creado el dataframe, ordenarlo por número de seguidores, de forma qeu podamos ver en la primera fila la cuenta con mayor número de seguidores.\n",
    "\n",
    "**PARTE 3:** En esa última parte obtendremos los 20 últimos tweets de los usuarios de la parte anterior para analizar si han mencionado los mismos Hashtags.\n",
    "\n",
    "- De los usuarios, cargar los 20 últimos tweets y obtener una lista que contenga todos los **hastags** que han aparecido en alguno de estos tweets de cada cuenta de usuario considerada. \n",
    "\n",
    "- Una vez obtenida esta información, podemos organizarla en forma de diccionario dónde una columna sea el nombre de usuario y la otra la lista separada por comas de los hashtags obtenidos en cada usuario; o en forma de diccionario, donde el valor de la clave sea el nobre de usuario y el valor una lista con los diferentes hashtags encontrados por usuario. \n",
    "\n",
    "- Finalmente vamos a analizar por cada Hashtag, qué cuenta lo hamencionado. Con esa información, vamos a mostrar qué Hashtag(s) ha(n) sido mencionado(s) por más de un usuario (en caso de que los haya)."
   ]
  },
  {
   "cell_type": "markdown",
   "metadata": {
    "id": "JpVXfp4dWQi6"
   },
   "source": [
    "> **NOTA:** En la parte 2, tanto para obtener la información relativa de las cuentas como la de los tweets, se recomienda hacer un bucle en el que en cada iteración se obtenga la información de cada usuario. Además, al final de cada iteración, antes de pasar a la siguiente, se aconseja esperar 4 segundos. Para ello, se puede utilizar la funcion time.sleep(4) de la librería times."
   ]
  },
  {
   "cell_type": "code",
   "execution_count": 6,
   "metadata": {
    "id": "3tRlwlY2HTV5"
   },
   "outputs": [],
   "source": [
    "# Cargar librerías\n",
    "import requests\n",
    "from bs4 import BeautifulSoup\n",
    "import pandas as pd"
   ]
  },
  {
   "cell_type": "markdown",
   "metadata": {
    "id": "JpVXfp4dWQi6"
   },
   "source": [
    "**PARTE 1**"
   ]
  },
  {
   "cell_type": "code",
   "execution_count": 7,
   "metadata": {
    "id": "97W2uZhxT0Dz"
   },
   "outputs": [],
   "source": [
    "url_base='https://www.thetealmango.com/featured/top-50-most-influential-people-on-twitter/'\n",
    "\n",
    "r = requests.get(url_base)\n",
    "r.status_code\n",
    "\n",
    "html = r.content\n",
    "\n",
    "soup = BeautifulSoup(html, \"html.parser\")\n",
    "pretable = soup.find('table')\n",
    "table = pretable.find_all('tr')\n",
    "\n",
    "with open('twitter_respuesta.html', 'wb') as file:\n",
    "    file.write(soup.prettify('utf-8'))\n"
   ]
  },
  {
   "cell_type": "code",
   "execution_count": 8,
   "metadata": {},
   "outputs": [
    {
     "data": {
      "text/plain": [
       "40"
      ]
     },
     "execution_count": 8,
     "metadata": {},
     "output_type": "execute_result"
    }
   ],
   "source": [
    "person_list = []\n",
    "for i in range(41):\n",
    "    if i != 0:\n",
    "        person_data = table[i].find_all('td')\n",
    "        name = person_data[1].text\n",
    "        handle = person_data[3].text\n",
    "\n",
    "        person_dict = {'Name': name,\n",
    "                        'Handle': handle\n",
    "                        }\n",
    "        person_list.append(person_dict)\n",
    "\n",
    "df_person = pd.DataFrame(person_list)\n",
    "\n",
    "len(df_person)\n"
   ]
  },
  {
   "cell_type": "code",
   "execution_count": 9,
   "metadata": {},
   "outputs": [
    {
     "data": {
      "text/html": [
       "<div>\n",
       "<style scoped>\n",
       "    .dataframe tbody tr th:only-of-type {\n",
       "        vertical-align: middle;\n",
       "    }\n",
       "\n",
       "    .dataframe tbody tr th {\n",
       "        vertical-align: top;\n",
       "    }\n",
       "\n",
       "    .dataframe thead th {\n",
       "        text-align: right;\n",
       "    }\n",
       "</style>\n",
       "<table border=\"1\" class=\"dataframe\">\n",
       "  <thead>\n",
       "    <tr style=\"text-align: right;\">\n",
       "      <th></th>\n",
       "      <th>Name</th>\n",
       "      <th>Handle</th>\n",
       "    </tr>\n",
       "  </thead>\n",
       "  <tbody>\n",
       "    <tr>\n",
       "      <th>0</th>\n",
       "      <td>Taylor Swift</td>\n",
       "      <td>taylorswift13</td>\n",
       "    </tr>\n",
       "    <tr>\n",
       "      <th>1</th>\n",
       "      <td>Narendra Modi</td>\n",
       "      <td>narendramodi</td>\n",
       "    </tr>\n",
       "    <tr>\n",
       "      <th>2</th>\n",
       "      <td>Katy Perry</td>\n",
       "      <td>katyperry</td>\n",
       "    </tr>\n",
       "    <tr>\n",
       "      <th>3</th>\n",
       "      <td>Elon Musk</td>\n",
       "      <td>elonmusk</td>\n",
       "    </tr>\n",
       "    <tr>\n",
       "      <th>4</th>\n",
       "      <td>Barack Obama</td>\n",
       "      <td>BarackObama</td>\n",
       "    </tr>\n",
       "  </tbody>\n",
       "</table>\n",
       "</div>"
      ],
      "text/plain": [
       "            Name         Handle\n",
       "0   Taylor Swift  taylorswift13\n",
       "1  Narendra Modi   narendramodi\n",
       "2     Katy Perry      katyperry\n",
       "3      Elon Musk       elonmusk\n",
       "4   Barack Obama    BarackObama"
      ]
     },
     "execution_count": 9,
     "metadata": {},
     "output_type": "execute_result"
    }
   ],
   "source": [
    "df_person['Handle'] = df_person['Handle'].str[1:]\n",
    "\n",
    "df_person.head()\n"
   ]
  },
  {
   "cell_type": "markdown",
   "metadata": {
    "id": "JpVXfp4dWQi6"
   },
   "source": [
    "**PARTE 2**"
   ]
  },
  {
   "cell_type": "code",
   "execution_count": 10,
   "metadata": {
    "id": "2PFbH-kgT0ev"
   },
   "outputs": [],
   "source": [
    "# Cargar librerías\n",
    "import tweepy\n",
    "from tweepy import OAuthHandler\n",
    "from tweepy import API\n",
    "from bs4 import BeautifulSoup as bs\n",
    "import re\n"
   ]
  },
  {
   "cell_type": "code",
   "execution_count": 11,
   "metadata": {
    "id": "hC4yFZ3LU1hu"
   },
   "outputs": [],
   "source": [
    "# Definir claves de acceso\n",
    "consumer_key = 'a2jSv9leMeDvSvY3eGnk6oEj9'\n",
    "consumer_secret = 'ht3bcTm5D5kqUz2BneEJbnem186DKWEa4u7vvUJlYOaoPtnjLl'\n",
    "access_token = '3222720493-272a9QCl6dFfsozkUOj0J1trtcEzXLmrbb1CxSy'\n",
    "access_token_secret = 'rx0fZ5Xs37wxETLyobzbS8adDeP1mi0sROwbVAIWSsin9'\n"
   ]
  },
  {
   "cell_type": "code",
   "execution_count": 12,
   "metadata": {
    "id": "wkK4bOZXU1iF"
   },
   "outputs": [
    {
     "data": {
      "text/plain": [
       "<tweepy.api.API at 0x17176b15d30>"
      ]
     },
     "execution_count": 12,
     "metadata": {},
     "output_type": "execute_result"
    }
   ],
   "source": [
    "#Definir la autentificación y establecer la conexión\n",
    "auth = OAuthHandler(consumer_key, consumer_secret)\n",
    "auth.set_access_token(access_token, access_token_secret)\n",
    "\n",
    "auth_api = API(auth)\n",
    "\n",
    "auth_api\n"
   ]
  },
  {
   "cell_type": "code",
   "execution_count": 13,
   "metadata": {
    "id": "SHP8IKv_T0vk"
   },
   "outputs": [
    {
     "data": {
      "text/plain": [
       "20"
      ]
     },
     "execution_count": 13,
     "metadata": {},
     "output_type": "execute_result"
    }
   ],
   "source": [
    "person_list = []\n",
    "count = 0\n",
    "for handle in df_person['Handle']:\n",
    "    if count <= 20:\n",
    "        try:\n",
    "            count += 1\n",
    "            detalles_person = auth_api.get_user(screen_name=handle)\n",
    "            nombre = detalles_person.name\n",
    "            usuario = detalles_person.screen_name\n",
    "            ubicacion = detalles_person.location\n",
    "            fecha_creacion = detalles_person.created_at\n",
    "            num_seguidores = detalles_person.followers_count\n",
    "            num_amigos = detalles_person.friends_count\n",
    "            person_dict = {'Nombre': nombre,\n",
    "                            'Usuario': usuario,\n",
    "                            'Ubicación': ubicacion,\n",
    "                            'Fecha_de_creación': fecha_creacion,\n",
    "                            'Nº de seguidores': num_seguidores,\n",
    "                            'Nº de amigos': num_amigos\n",
    "                            }\n",
    "            person_list.append(person_dict)\n",
    "        except Exception :\n",
    "            continue\n",
    "\n",
    "df_detalles_cuentas = pd.DataFrame(person_list)\n",
    "\n",
    "len(df_detalles_cuentas)\n"
   ]
  },
  {
   "cell_type": "code",
   "execution_count": 14,
   "metadata": {},
   "outputs": [
    {
     "data": {
      "text/html": [
       "<div>\n",
       "<style scoped>\n",
       "    .dataframe tbody tr th:only-of-type {\n",
       "        vertical-align: middle;\n",
       "    }\n",
       "\n",
       "    .dataframe tbody tr th {\n",
       "        vertical-align: top;\n",
       "    }\n",
       "\n",
       "    .dataframe thead th {\n",
       "        text-align: right;\n",
       "    }\n",
       "</style>\n",
       "<table border=\"1\" class=\"dataframe\">\n",
       "  <thead>\n",
       "    <tr style=\"text-align: right;\">\n",
       "      <th></th>\n",
       "      <th>Nombre</th>\n",
       "      <th>Usuario</th>\n",
       "      <th>Ubicación</th>\n",
       "      <th>Fecha_de_creación</th>\n",
       "      <th>Nº de seguidores</th>\n",
       "      <th>Nº de amigos</th>\n",
       "    </tr>\n",
       "  </thead>\n",
       "  <tbody>\n",
       "    <tr>\n",
       "      <th>0</th>\n",
       "      <td>Taylor Swift</td>\n",
       "      <td>taylorswift13</td>\n",
       "      <td></td>\n",
       "      <td>2008-12-06 10:10:54+00:00</td>\n",
       "      <td>92043597</td>\n",
       "      <td>0</td>\n",
       "    </tr>\n",
       "    <tr>\n",
       "      <th>1</th>\n",
       "      <td>Narendra Modi</td>\n",
       "      <td>narendramodi</td>\n",
       "      <td>India</td>\n",
       "      <td>2009-01-10 17:18:56+00:00</td>\n",
       "      <td>84943534</td>\n",
       "      <td>2453</td>\n",
       "    </tr>\n",
       "    <tr>\n",
       "      <th>2</th>\n",
       "      <td>KATY PERRY</td>\n",
       "      <td>katyperry</td>\n",
       "      <td></td>\n",
       "      <td>2009-02-20 23:45:56+00:00</td>\n",
       "      <td>108758502</td>\n",
       "      <td>241</td>\n",
       "    </tr>\n",
       "    <tr>\n",
       "      <th>3</th>\n",
       "      <td>Elon Musk</td>\n",
       "      <td>elonmusk</td>\n",
       "      <td></td>\n",
       "      <td>2009-06-02 20:12:29+00:00</td>\n",
       "      <td>120749038</td>\n",
       "      <td>143</td>\n",
       "    </tr>\n",
       "    <tr>\n",
       "      <th>4</th>\n",
       "      <td>Barack Obama</td>\n",
       "      <td>BarackObama</td>\n",
       "      <td>Washington, DC</td>\n",
       "      <td>2007-03-05 22:08:25+00:00</td>\n",
       "      <td>133569663</td>\n",
       "      <td>567984</td>\n",
       "    </tr>\n",
       "  </tbody>\n",
       "</table>\n",
       "</div>"
      ],
      "text/plain": [
       "          Nombre        Usuario       Ubicación         Fecha_de_creación  \\\n",
       "0   Taylor Swift  taylorswift13                 2008-12-06 10:10:54+00:00   \n",
       "1  Narendra Modi   narendramodi           India 2009-01-10 17:18:56+00:00   \n",
       "2     KATY PERRY      katyperry                 2009-02-20 23:45:56+00:00   \n",
       "3      Elon Musk       elonmusk                 2009-06-02 20:12:29+00:00   \n",
       "4   Barack Obama    BarackObama  Washington, DC 2007-03-05 22:08:25+00:00   \n",
       "\n",
       "   Nº de seguidores  Nº de amigos  \n",
       "0          92043597             0  \n",
       "1          84943534          2453  \n",
       "2         108758502           241  \n",
       "3         120749038           143  \n",
       "4         133569663        567984  "
      ]
     },
     "execution_count": 14,
     "metadata": {},
     "output_type": "execute_result"
    }
   ],
   "source": [
    "df_detalles_cuentas.head()\n"
   ]
  },
  {
   "cell_type": "code",
   "execution_count": 15,
   "metadata": {},
   "outputs": [
    {
     "data": {
      "text/html": [
       "<div>\n",
       "<style scoped>\n",
       "    .dataframe tbody tr th:only-of-type {\n",
       "        vertical-align: middle;\n",
       "    }\n",
       "\n",
       "    .dataframe tbody tr th {\n",
       "        vertical-align: top;\n",
       "    }\n",
       "\n",
       "    .dataframe thead th {\n",
       "        text-align: right;\n",
       "    }\n",
       "</style>\n",
       "<table border=\"1\" class=\"dataframe\">\n",
       "  <thead>\n",
       "    <tr style=\"text-align: right;\">\n",
       "      <th></th>\n",
       "      <th>Nombre</th>\n",
       "      <th>Usuario</th>\n",
       "      <th>Ubicación</th>\n",
       "      <th>Fecha_de_creación</th>\n",
       "      <th>Nº de seguidores</th>\n",
       "      <th>Nº de amigos</th>\n",
       "    </tr>\n",
       "  </thead>\n",
       "  <tbody>\n",
       "    <tr>\n",
       "      <th>4</th>\n",
       "      <td>Barack Obama</td>\n",
       "      <td>BarackObama</td>\n",
       "      <td>Washington, DC</td>\n",
       "      <td>2007-03-05 22:08:25+00:00</td>\n",
       "      <td>133569663</td>\n",
       "      <td>567984</td>\n",
       "    </tr>\n",
       "    <tr>\n",
       "      <th>3</th>\n",
       "      <td>Elon Musk</td>\n",
       "      <td>elonmusk</td>\n",
       "      <td></td>\n",
       "      <td>2009-06-02 20:12:29+00:00</td>\n",
       "      <td>120749038</td>\n",
       "      <td>143</td>\n",
       "    </tr>\n",
       "    <tr>\n",
       "      <th>11</th>\n",
       "      <td>Justin Bieber</td>\n",
       "      <td>justinbieber</td>\n",
       "      <td>The 6</td>\n",
       "      <td>2009-03-28 16:41:22+00:00</td>\n",
       "      <td>113654359</td>\n",
       "      <td>281251</td>\n",
       "    </tr>\n",
       "    <tr>\n",
       "      <th>2</th>\n",
       "      <td>KATY PERRY</td>\n",
       "      <td>katyperry</td>\n",
       "      <td></td>\n",
       "      <td>2009-02-20 23:45:56+00:00</td>\n",
       "      <td>108758502</td>\n",
       "      <td>241</td>\n",
       "    </tr>\n",
       "    <tr>\n",
       "      <th>12</th>\n",
       "      <td>Rihanna</td>\n",
       "      <td>rihanna</td>\n",
       "      <td></td>\n",
       "      <td>2009-10-02 21:37:33+00:00</td>\n",
       "      <td>107376791</td>\n",
       "      <td>982</td>\n",
       "    </tr>\n",
       "  </tbody>\n",
       "</table>\n",
       "</div>"
      ],
      "text/plain": [
       "           Nombre       Usuario       Ubicación         Fecha_de_creación  \\\n",
       "4    Barack Obama   BarackObama  Washington, DC 2007-03-05 22:08:25+00:00   \n",
       "3       Elon Musk      elonmusk                 2009-06-02 20:12:29+00:00   \n",
       "11  Justin Bieber  justinbieber           The 6 2009-03-28 16:41:22+00:00   \n",
       "2      KATY PERRY     katyperry                 2009-02-20 23:45:56+00:00   \n",
       "12        Rihanna       rihanna                 2009-10-02 21:37:33+00:00   \n",
       "\n",
       "    Nº de seguidores  Nº de amigos  \n",
       "4          133569663        567984  \n",
       "3          120749038           143  \n",
       "11         113654359        281251  \n",
       "2          108758502           241  \n",
       "12         107376791           982  "
      ]
     },
     "execution_count": 15,
     "metadata": {},
     "output_type": "execute_result"
    }
   ],
   "source": [
    "df_detalles_cuentas = df_detalles_cuentas.sort_values(by='Nº de seguidores', ascending=False)\n",
    "\n",
    "df_detalles_cuentas.head()\n"
   ]
  },
  {
   "cell_type": "markdown",
   "metadata": {
    "id": "JpVXfp4dWQi6"
   },
   "source": [
    "**PARTE 3**"
   ]
  },
  {
   "attachments": {},
   "cell_type": "markdown",
   "metadata": {},
   "source": [
    "- De los usuarios, cargar los 20 últimos tweets y obtener una lista que contenga todos los **hastags** que han aparecido en alguno de estos tweets de cada cuenta de usuario considerada. "
   ]
  },
  {
   "cell_type": "code",
   "execution_count": 18,
   "metadata": {
    "id": "DuDrOGD0VpqI"
   },
   "outputs": [
    {
     "ename": "KeyboardInterrupt",
     "evalue": "",
     "output_type": "error",
     "traceback": [
      "\u001b[1;31m---------------------------------------------------------------------------\u001b[0m",
      "\u001b[1;31mKeyboardInterrupt\u001b[0m                         Traceback (most recent call last)",
      "Cell \u001b[1;32mIn [18], line 3\u001b[0m\n\u001b[0;32m      1\u001b[0m person_dict \u001b[39m=\u001b[39m \u001b[39mdict\u001b[39m()\n\u001b[0;32m      2\u001b[0m \u001b[39mfor\u001b[39;00m handle \u001b[39min\u001b[39;00m df_detalles_cuentas[\u001b[39m'\u001b[39m\u001b[39mUsuario\u001b[39m\u001b[39m'\u001b[39m]:\n\u001b[1;32m----> 3\u001b[0m     person_tweets \u001b[39m=\u001b[39m auth_api\u001b[39m.\u001b[39;49muser_timeline(screen_name\u001b[39m=\u001b[39;49mhandle)\n",
      "File \u001b[1;32mc:\\Users\\Roger\\miniconda3\\envs\\data_analytics\\lib\\site-packages\\tweepy\\api.py:33\u001b[0m, in \u001b[0;36mpagination.<locals>.decorator.<locals>.wrapper\u001b[1;34m(*args, **kwargs)\u001b[0m\n\u001b[0;32m     31\u001b[0m \u001b[39m@functools\u001b[39m\u001b[39m.\u001b[39mwraps(method)\n\u001b[0;32m     32\u001b[0m \u001b[39mdef\u001b[39;00m \u001b[39mwrapper\u001b[39m(\u001b[39m*\u001b[39margs, \u001b[39m*\u001b[39m\u001b[39m*\u001b[39mkwargs):\n\u001b[1;32m---> 33\u001b[0m     \u001b[39mreturn\u001b[39;00m method(\u001b[39m*\u001b[39margs, \u001b[39m*\u001b[39m\u001b[39m*\u001b[39mkwargs)\n",
      "File \u001b[1;32mc:\\Users\\Roger\\miniconda3\\envs\\data_analytics\\lib\\site-packages\\tweepy\\api.py:46\u001b[0m, in \u001b[0;36mpayload.<locals>.decorator.<locals>.wrapper\u001b[1;34m(*args, **kwargs)\u001b[0m\n\u001b[0;32m     44\u001b[0m kwargs[\u001b[39m'\u001b[39m\u001b[39mpayload_list\u001b[39m\u001b[39m'\u001b[39m] \u001b[39m=\u001b[39m payload_list\n\u001b[0;32m     45\u001b[0m kwargs[\u001b[39m'\u001b[39m\u001b[39mpayload_type\u001b[39m\u001b[39m'\u001b[39m] \u001b[39m=\u001b[39m payload_type\n\u001b[1;32m---> 46\u001b[0m \u001b[39mreturn\u001b[39;00m method(\u001b[39m*\u001b[39margs, \u001b[39m*\u001b[39m\u001b[39m*\u001b[39mkwargs)\n",
      "File \u001b[1;32mc:\\Users\\Roger\\miniconda3\\envs\\data_analytics\\lib\\site-packages\\tweepy\\api.py:577\u001b[0m, in \u001b[0;36mAPI.user_timeline\u001b[1;34m(self, **kwargs)\u001b[0m\n\u001b[0;32m    536\u001b[0m \u001b[39m@pagination\u001b[39m(mode\u001b[39m=\u001b[39m\u001b[39m'\u001b[39m\u001b[39mid\u001b[39m\u001b[39m'\u001b[39m)\n\u001b[0;32m    537\u001b[0m \u001b[39m@payload\u001b[39m(\u001b[39m'\u001b[39m\u001b[39mstatus\u001b[39m\u001b[39m'\u001b[39m, \u001b[39mlist\u001b[39m\u001b[39m=\u001b[39m\u001b[39mTrue\u001b[39;00m)\n\u001b[0;32m    538\u001b[0m \u001b[39mdef\u001b[39;00m \u001b[39muser_timeline\u001b[39m(\u001b[39mself\u001b[39m, \u001b[39m*\u001b[39m\u001b[39m*\u001b[39mkwargs):\n\u001b[0;32m    539\u001b[0m     \u001b[39m\"\"\"user_timeline(*, user_id, screen_name, since_id, count, max_id, \\\u001b[39;00m\n\u001b[0;32m    540\u001b[0m \u001b[39m                     trim_user, exclude_replies, include_rts)\u001b[39;00m\n\u001b[0;32m    541\u001b[0m \n\u001b[1;32m   (...)\u001b[0m\n\u001b[0;32m    575\u001b[0m \u001b[39m    https://developer.twitter.com/en/docs/twitter-api/v1/tweets/timelines/api-reference/get-statuses-user_timeline\u001b[39;00m\n\u001b[0;32m    576\u001b[0m \u001b[39m    \"\"\"\u001b[39;00m\n\u001b[1;32m--> 577\u001b[0m     \u001b[39mreturn\u001b[39;00m \u001b[39mself\u001b[39m\u001b[39m.\u001b[39mrequest(\n\u001b[0;32m    578\u001b[0m         \u001b[39m'\u001b[39m\u001b[39mGET\u001b[39m\u001b[39m'\u001b[39m, \u001b[39m'\u001b[39m\u001b[39mstatuses/user_timeline\u001b[39m\u001b[39m'\u001b[39m, endpoint_parameters\u001b[39m=\u001b[39m(\n\u001b[0;32m    579\u001b[0m             \u001b[39m'\u001b[39m\u001b[39muser_id\u001b[39m\u001b[39m'\u001b[39m, \u001b[39m'\u001b[39m\u001b[39mscreen_name\u001b[39m\u001b[39m'\u001b[39m, \u001b[39m'\u001b[39m\u001b[39msince_id\u001b[39m\u001b[39m'\u001b[39m, \u001b[39m'\u001b[39m\u001b[39mcount\u001b[39m\u001b[39m'\u001b[39m, \u001b[39m'\u001b[39m\u001b[39mmax_id\u001b[39m\u001b[39m'\u001b[39m,\n\u001b[0;32m    580\u001b[0m             \u001b[39m'\u001b[39m\u001b[39mtrim_user\u001b[39m\u001b[39m'\u001b[39m, \u001b[39m'\u001b[39m\u001b[39mexclude_replies\u001b[39m\u001b[39m'\u001b[39m, \u001b[39m'\u001b[39m\u001b[39minclude_rts\u001b[39m\u001b[39m'\u001b[39m\n\u001b[0;32m    581\u001b[0m         ), \u001b[39m*\u001b[39m\u001b[39m*\u001b[39mkwargs\n\u001b[0;32m    582\u001b[0m     )\n",
      "File \u001b[1;32mc:\\Users\\Roger\\miniconda3\\envs\\data_analytics\\lib\\site-packages\\tweepy\\api.py:222\u001b[0m, in \u001b[0;36mAPI.request\u001b[1;34m(self, method, endpoint, endpoint_parameters, params, headers, json_payload, parser, payload_list, payload_type, post_data, files, require_auth, return_cursors, upload_api, use_cache, **kwargs)\u001b[0m\n\u001b[0;32m    220\u001b[0m \u001b[39m# Execute request\u001b[39;00m\n\u001b[0;32m    221\u001b[0m \u001b[39mtry\u001b[39;00m:\n\u001b[1;32m--> 222\u001b[0m     resp \u001b[39m=\u001b[39m \u001b[39mself\u001b[39;49m\u001b[39m.\u001b[39;49msession\u001b[39m.\u001b[39;49mrequest(\n\u001b[0;32m    223\u001b[0m         method, url, params\u001b[39m=\u001b[39;49mparams, headers\u001b[39m=\u001b[39;49mheaders,\n\u001b[0;32m    224\u001b[0m         data\u001b[39m=\u001b[39;49mpost_data, files\u001b[39m=\u001b[39;49mfiles, json\u001b[39m=\u001b[39;49mjson_payload,\n\u001b[0;32m    225\u001b[0m         timeout\u001b[39m=\u001b[39;49m\u001b[39mself\u001b[39;49m\u001b[39m.\u001b[39;49mtimeout, auth\u001b[39m=\u001b[39;49mauth, proxies\u001b[39m=\u001b[39;49m\u001b[39mself\u001b[39;49m\u001b[39m.\u001b[39;49mproxy\n\u001b[0;32m    226\u001b[0m     )\n\u001b[0;32m    227\u001b[0m \u001b[39mexcept\u001b[39;00m \u001b[39mException\u001b[39;00m \u001b[39mas\u001b[39;00m e:\n\u001b[0;32m    228\u001b[0m     \u001b[39mraise\u001b[39;00m TweepyException(\u001b[39mf\u001b[39m\u001b[39m'\u001b[39m\u001b[39mFailed to send request: \u001b[39m\u001b[39m{\u001b[39;00me\u001b[39m}\u001b[39;00m\u001b[39m'\u001b[39m)\u001b[39m.\u001b[39mwith_traceback(sys\u001b[39m.\u001b[39mexc_info()[\u001b[39m2\u001b[39m])\n",
      "File \u001b[1;32mc:\\Users\\Roger\\miniconda3\\envs\\data_analytics\\lib\\site-packages\\requests\\sessions.py:587\u001b[0m, in \u001b[0;36mSession.request\u001b[1;34m(self, method, url, params, data, headers, cookies, files, auth, timeout, allow_redirects, proxies, hooks, stream, verify, cert, json)\u001b[0m\n\u001b[0;32m    582\u001b[0m send_kwargs \u001b[39m=\u001b[39m {\n\u001b[0;32m    583\u001b[0m     \u001b[39m\"\u001b[39m\u001b[39mtimeout\u001b[39m\u001b[39m\"\u001b[39m: timeout,\n\u001b[0;32m    584\u001b[0m     \u001b[39m\"\u001b[39m\u001b[39mallow_redirects\u001b[39m\u001b[39m\"\u001b[39m: allow_redirects,\n\u001b[0;32m    585\u001b[0m }\n\u001b[0;32m    586\u001b[0m send_kwargs\u001b[39m.\u001b[39mupdate(settings)\n\u001b[1;32m--> 587\u001b[0m resp \u001b[39m=\u001b[39m \u001b[39mself\u001b[39m\u001b[39m.\u001b[39msend(prep, \u001b[39m*\u001b[39m\u001b[39m*\u001b[39msend_kwargs)\n\u001b[0;32m    589\u001b[0m \u001b[39mreturn\u001b[39;00m resp\n",
      "File \u001b[1;32mc:\\Users\\Roger\\miniconda3\\envs\\data_analytics\\lib\\site-packages\\requests\\sessions.py:701\u001b[0m, in \u001b[0;36mSession.send\u001b[1;34m(self, request, **kwargs)\u001b[0m\n\u001b[0;32m    698\u001b[0m start \u001b[39m=\u001b[39m preferred_clock()\n\u001b[0;32m    700\u001b[0m \u001b[39m# Send the request\u001b[39;00m\n\u001b[1;32m--> 701\u001b[0m r \u001b[39m=\u001b[39m adapter\u001b[39m.\u001b[39msend(request, \u001b[39m*\u001b[39m\u001b[39m*\u001b[39mkwargs)\n\u001b[0;32m    703\u001b[0m \u001b[39m# Total elapsed time of the request (approximately)\u001b[39;00m\n\u001b[0;32m    704\u001b[0m elapsed \u001b[39m=\u001b[39m preferred_clock() \u001b[39m-\u001b[39m start\n",
      "File \u001b[1;32mc:\\Users\\Roger\\miniconda3\\envs\\data_analytics\\lib\\site-packages\\requests\\adapters.py:489\u001b[0m, in \u001b[0;36mHTTPAdapter.send\u001b[1;34m(self, request, stream, timeout, verify, cert, proxies)\u001b[0m\n\u001b[0;32m    487\u001b[0m \u001b[39mtry\u001b[39;00m:\n\u001b[0;32m    488\u001b[0m     \u001b[39mif\u001b[39;00m \u001b[39mnot\u001b[39;00m chunked:\n\u001b[1;32m--> 489\u001b[0m         resp \u001b[39m=\u001b[39m conn\u001b[39m.\u001b[39;49murlopen(\n\u001b[0;32m    490\u001b[0m             method\u001b[39m=\u001b[39;49mrequest\u001b[39m.\u001b[39;49mmethod,\n\u001b[0;32m    491\u001b[0m             url\u001b[39m=\u001b[39;49murl,\n\u001b[0;32m    492\u001b[0m             body\u001b[39m=\u001b[39;49mrequest\u001b[39m.\u001b[39;49mbody,\n\u001b[0;32m    493\u001b[0m             headers\u001b[39m=\u001b[39;49mrequest\u001b[39m.\u001b[39;49mheaders,\n\u001b[0;32m    494\u001b[0m             redirect\u001b[39m=\u001b[39;49m\u001b[39mFalse\u001b[39;49;00m,\n\u001b[0;32m    495\u001b[0m             assert_same_host\u001b[39m=\u001b[39;49m\u001b[39mFalse\u001b[39;49;00m,\n\u001b[0;32m    496\u001b[0m             preload_content\u001b[39m=\u001b[39;49m\u001b[39mFalse\u001b[39;49;00m,\n\u001b[0;32m    497\u001b[0m             decode_content\u001b[39m=\u001b[39;49m\u001b[39mFalse\u001b[39;49;00m,\n\u001b[0;32m    498\u001b[0m             retries\u001b[39m=\u001b[39;49m\u001b[39mself\u001b[39;49m\u001b[39m.\u001b[39;49mmax_retries,\n\u001b[0;32m    499\u001b[0m             timeout\u001b[39m=\u001b[39;49mtimeout,\n\u001b[0;32m    500\u001b[0m         )\n\u001b[0;32m    502\u001b[0m     \u001b[39m# Send the request.\u001b[39;00m\n\u001b[0;32m    503\u001b[0m     \u001b[39melse\u001b[39;00m:\n\u001b[0;32m    504\u001b[0m         \u001b[39mif\u001b[39;00m \u001b[39mhasattr\u001b[39m(conn, \u001b[39m\"\u001b[39m\u001b[39mproxy_pool\u001b[39m\u001b[39m\"\u001b[39m):\n",
      "File \u001b[1;32mc:\\Users\\Roger\\miniconda3\\envs\\data_analytics\\lib\\site-packages\\urllib3\\connectionpool.py:703\u001b[0m, in \u001b[0;36mHTTPConnectionPool.urlopen\u001b[1;34m(self, method, url, body, headers, retries, redirect, assert_same_host, timeout, pool_timeout, release_conn, chunked, body_pos, **response_kw)\u001b[0m\n\u001b[0;32m    700\u001b[0m     \u001b[39mself\u001b[39m\u001b[39m.\u001b[39m_prepare_proxy(conn)\n\u001b[0;32m    702\u001b[0m \u001b[39m# Make the request on the httplib connection object.\u001b[39;00m\n\u001b[1;32m--> 703\u001b[0m httplib_response \u001b[39m=\u001b[39m \u001b[39mself\u001b[39;49m\u001b[39m.\u001b[39;49m_make_request(\n\u001b[0;32m    704\u001b[0m     conn,\n\u001b[0;32m    705\u001b[0m     method,\n\u001b[0;32m    706\u001b[0m     url,\n\u001b[0;32m    707\u001b[0m     timeout\u001b[39m=\u001b[39;49mtimeout_obj,\n\u001b[0;32m    708\u001b[0m     body\u001b[39m=\u001b[39;49mbody,\n\u001b[0;32m    709\u001b[0m     headers\u001b[39m=\u001b[39;49mheaders,\n\u001b[0;32m    710\u001b[0m     chunked\u001b[39m=\u001b[39;49mchunked,\n\u001b[0;32m    711\u001b[0m )\n\u001b[0;32m    713\u001b[0m \u001b[39m# If we're going to release the connection in ``finally:``, then\u001b[39;00m\n\u001b[0;32m    714\u001b[0m \u001b[39m# the response doesn't need to know about the connection. Otherwise\u001b[39;00m\n\u001b[0;32m    715\u001b[0m \u001b[39m# it will also try to release it and we'll have a double-release\u001b[39;00m\n\u001b[0;32m    716\u001b[0m \u001b[39m# mess.\u001b[39;00m\n\u001b[0;32m    717\u001b[0m response_conn \u001b[39m=\u001b[39m conn \u001b[39mif\u001b[39;00m \u001b[39mnot\u001b[39;00m release_conn \u001b[39melse\u001b[39;00m \u001b[39mNone\u001b[39;00m\n",
      "File \u001b[1;32mc:\\Users\\Roger\\miniconda3\\envs\\data_analytics\\lib\\site-packages\\urllib3\\connectionpool.py:449\u001b[0m, in \u001b[0;36mHTTPConnectionPool._make_request\u001b[1;34m(self, conn, method, url, timeout, chunked, **httplib_request_kw)\u001b[0m\n\u001b[0;32m    444\u001b[0m             httplib_response \u001b[39m=\u001b[39m conn\u001b[39m.\u001b[39mgetresponse()\n\u001b[0;32m    445\u001b[0m         \u001b[39mexcept\u001b[39;00m \u001b[39mBaseException\u001b[39;00m \u001b[39mas\u001b[39;00m e:\n\u001b[0;32m    446\u001b[0m             \u001b[39m# Remove the TypeError from the exception chain in\u001b[39;00m\n\u001b[0;32m    447\u001b[0m             \u001b[39m# Python 3 (including for exceptions like SystemExit).\u001b[39;00m\n\u001b[0;32m    448\u001b[0m             \u001b[39m# Otherwise it looks like a bug in the code.\u001b[39;00m\n\u001b[1;32m--> 449\u001b[0m             six\u001b[39m.\u001b[39;49mraise_from(e, \u001b[39mNone\u001b[39;49;00m)\n\u001b[0;32m    450\u001b[0m \u001b[39mexcept\u001b[39;00m (SocketTimeout, BaseSSLError, SocketError) \u001b[39mas\u001b[39;00m e:\n\u001b[0;32m    451\u001b[0m     \u001b[39mself\u001b[39m\u001b[39m.\u001b[39m_raise_timeout(err\u001b[39m=\u001b[39me, url\u001b[39m=\u001b[39murl, timeout_value\u001b[39m=\u001b[39mread_timeout)\n",
      "File \u001b[1;32m<string>:3\u001b[0m, in \u001b[0;36mraise_from\u001b[1;34m(value, from_value)\u001b[0m\n",
      "File \u001b[1;32mc:\\Users\\Roger\\miniconda3\\envs\\data_analytics\\lib\\site-packages\\urllib3\\connectionpool.py:444\u001b[0m, in \u001b[0;36mHTTPConnectionPool._make_request\u001b[1;34m(self, conn, method, url, timeout, chunked, **httplib_request_kw)\u001b[0m\n\u001b[0;32m    441\u001b[0m \u001b[39mexcept\u001b[39;00m \u001b[39mTypeError\u001b[39;00m:\n\u001b[0;32m    442\u001b[0m     \u001b[39m# Python 3\u001b[39;00m\n\u001b[0;32m    443\u001b[0m     \u001b[39mtry\u001b[39;00m:\n\u001b[1;32m--> 444\u001b[0m         httplib_response \u001b[39m=\u001b[39m conn\u001b[39m.\u001b[39;49mgetresponse()\n\u001b[0;32m    445\u001b[0m     \u001b[39mexcept\u001b[39;00m \u001b[39mBaseException\u001b[39;00m \u001b[39mas\u001b[39;00m e:\n\u001b[0;32m    446\u001b[0m         \u001b[39m# Remove the TypeError from the exception chain in\u001b[39;00m\n\u001b[0;32m    447\u001b[0m         \u001b[39m# Python 3 (including for exceptions like SystemExit).\u001b[39;00m\n\u001b[0;32m    448\u001b[0m         \u001b[39m# Otherwise it looks like a bug in the code.\u001b[39;00m\n\u001b[0;32m    449\u001b[0m         six\u001b[39m.\u001b[39mraise_from(e, \u001b[39mNone\u001b[39;00m)\n",
      "File \u001b[1;32mc:\\Users\\Roger\\miniconda3\\envs\\data_analytics\\lib\\http\\client.py:1377\u001b[0m, in \u001b[0;36mHTTPConnection.getresponse\u001b[1;34m(self)\u001b[0m\n\u001b[0;32m   1375\u001b[0m \u001b[39mtry\u001b[39;00m:\n\u001b[0;32m   1376\u001b[0m     \u001b[39mtry\u001b[39;00m:\n\u001b[1;32m-> 1377\u001b[0m         response\u001b[39m.\u001b[39;49mbegin()\n\u001b[0;32m   1378\u001b[0m     \u001b[39mexcept\u001b[39;00m \u001b[39mConnectionError\u001b[39;00m:\n\u001b[0;32m   1379\u001b[0m         \u001b[39mself\u001b[39m\u001b[39m.\u001b[39mclose()\n",
      "File \u001b[1;32mc:\\Users\\Roger\\miniconda3\\envs\\data_analytics\\lib\\http\\client.py:320\u001b[0m, in \u001b[0;36mHTTPResponse.begin\u001b[1;34m(self)\u001b[0m\n\u001b[0;32m    318\u001b[0m \u001b[39m# read until we get a non-100 response\u001b[39;00m\n\u001b[0;32m    319\u001b[0m \u001b[39mwhile\u001b[39;00m \u001b[39mTrue\u001b[39;00m:\n\u001b[1;32m--> 320\u001b[0m     version, status, reason \u001b[39m=\u001b[39m \u001b[39mself\u001b[39;49m\u001b[39m.\u001b[39;49m_read_status()\n\u001b[0;32m    321\u001b[0m     \u001b[39mif\u001b[39;00m status \u001b[39m!=\u001b[39m CONTINUE:\n\u001b[0;32m    322\u001b[0m         \u001b[39mbreak\u001b[39;00m\n",
      "File \u001b[1;32mc:\\Users\\Roger\\miniconda3\\envs\\data_analytics\\lib\\http\\client.py:281\u001b[0m, in \u001b[0;36mHTTPResponse._read_status\u001b[1;34m(self)\u001b[0m\n\u001b[0;32m    280\u001b[0m \u001b[39mdef\u001b[39;00m \u001b[39m_read_status\u001b[39m(\u001b[39mself\u001b[39m):\n\u001b[1;32m--> 281\u001b[0m     line \u001b[39m=\u001b[39m \u001b[39mstr\u001b[39m(\u001b[39mself\u001b[39;49m\u001b[39m.\u001b[39;49mfp\u001b[39m.\u001b[39;49mreadline(_MAXLINE \u001b[39m+\u001b[39;49m \u001b[39m1\u001b[39;49m), \u001b[39m\"\u001b[39m\u001b[39miso-8859-1\u001b[39m\u001b[39m\"\u001b[39m)\n\u001b[0;32m    282\u001b[0m     \u001b[39mif\u001b[39;00m \u001b[39mlen\u001b[39m(line) \u001b[39m>\u001b[39m _MAXLINE:\n\u001b[0;32m    283\u001b[0m         \u001b[39mraise\u001b[39;00m LineTooLong(\u001b[39m\"\u001b[39m\u001b[39mstatus line\u001b[39m\u001b[39m\"\u001b[39m)\n",
      "File \u001b[1;32mc:\\Users\\Roger\\miniconda3\\envs\\data_analytics\\lib\\socket.py:704\u001b[0m, in \u001b[0;36mSocketIO.readinto\u001b[1;34m(self, b)\u001b[0m\n\u001b[0;32m    702\u001b[0m \u001b[39mwhile\u001b[39;00m \u001b[39mTrue\u001b[39;00m:\n\u001b[0;32m    703\u001b[0m     \u001b[39mtry\u001b[39;00m:\n\u001b[1;32m--> 704\u001b[0m         \u001b[39mreturn\u001b[39;00m \u001b[39mself\u001b[39;49m\u001b[39m.\u001b[39;49m_sock\u001b[39m.\u001b[39;49mrecv_into(b)\n\u001b[0;32m    705\u001b[0m     \u001b[39mexcept\u001b[39;00m timeout:\n\u001b[0;32m    706\u001b[0m         \u001b[39mself\u001b[39m\u001b[39m.\u001b[39m_timeout_occurred \u001b[39m=\u001b[39m \u001b[39mTrue\u001b[39;00m\n",
      "File \u001b[1;32mc:\\Users\\Roger\\miniconda3\\envs\\data_analytics\\lib\\ssl.py:1242\u001b[0m, in \u001b[0;36mSSLSocket.recv_into\u001b[1;34m(self, buffer, nbytes, flags)\u001b[0m\n\u001b[0;32m   1238\u001b[0m     \u001b[39mif\u001b[39;00m flags \u001b[39m!=\u001b[39m \u001b[39m0\u001b[39m:\n\u001b[0;32m   1239\u001b[0m         \u001b[39mraise\u001b[39;00m \u001b[39mValueError\u001b[39;00m(\n\u001b[0;32m   1240\u001b[0m           \u001b[39m\"\u001b[39m\u001b[39mnon-zero flags not allowed in calls to recv_into() on \u001b[39m\u001b[39m%s\u001b[39;00m\u001b[39m\"\u001b[39m \u001b[39m%\u001b[39m\n\u001b[0;32m   1241\u001b[0m           \u001b[39mself\u001b[39m\u001b[39m.\u001b[39m\u001b[39m__class__\u001b[39m)\n\u001b[1;32m-> 1242\u001b[0m     \u001b[39mreturn\u001b[39;00m \u001b[39mself\u001b[39;49m\u001b[39m.\u001b[39;49mread(nbytes, buffer)\n\u001b[0;32m   1243\u001b[0m \u001b[39melse\u001b[39;00m:\n\u001b[0;32m   1244\u001b[0m     \u001b[39mreturn\u001b[39;00m \u001b[39msuper\u001b[39m()\u001b[39m.\u001b[39mrecv_into(buffer, nbytes, flags)\n",
      "File \u001b[1;32mc:\\Users\\Roger\\miniconda3\\envs\\data_analytics\\lib\\ssl.py:1100\u001b[0m, in \u001b[0;36mSSLSocket.read\u001b[1;34m(self, len, buffer)\u001b[0m\n\u001b[0;32m   1098\u001b[0m \u001b[39mtry\u001b[39;00m:\n\u001b[0;32m   1099\u001b[0m     \u001b[39mif\u001b[39;00m buffer \u001b[39mis\u001b[39;00m \u001b[39mnot\u001b[39;00m \u001b[39mNone\u001b[39;00m:\n\u001b[1;32m-> 1100\u001b[0m         \u001b[39mreturn\u001b[39;00m \u001b[39mself\u001b[39;49m\u001b[39m.\u001b[39;49m_sslobj\u001b[39m.\u001b[39;49mread(\u001b[39mlen\u001b[39;49m, buffer)\n\u001b[0;32m   1101\u001b[0m     \u001b[39melse\u001b[39;00m:\n\u001b[0;32m   1102\u001b[0m         \u001b[39mreturn\u001b[39;00m \u001b[39mself\u001b[39m\u001b[39m.\u001b[39m_sslobj\u001b[39m.\u001b[39mread(\u001b[39mlen\u001b[39m)\n",
      "\u001b[1;31mKeyboardInterrupt\u001b[0m: "
     ]
    }
   ],
   "source": [
    "person_dict = dict()\n",
    "for handle in df_detalles_cuentas['Usuario']:\n",
    "    person_tweets = auth_api.user_timeline(screen_name=handle)\n",
    "    break\n"
   ]
  },
  {
   "cell_type": "code",
   "execution_count": null,
   "metadata": {},
   "outputs": [],
   "source": [
    "# Mostrar dataframe/diccionario relativo a los tweets de las cuentas\n"
   ]
  },
  {
   "cell_type": "code",
   "execution_count": null,
   "metadata": {
    "id": "eXzT9HFhVpqS"
   },
   "outputs": [],
   "source": [
    "# Hacemos la inversa: diccionario dónde cada Key sea un Hashtag y por valores las cuentas que lo han mencionado\n",
    "#TODO\n"
   ]
  },
  {
   "cell_type": "code",
   "execution_count": null,
   "metadata": {
    "id": "n-XZfctLVpqZ"
   },
   "outputs": [],
   "source": [
    "# Mostramos los Hashtags mencionados por más de una cuenta (en caso de que los haya)\n",
    "#TODO\n"
   ]
  },
  {
   "cell_type": "markdown",
   "metadata": {
    "id": "lo89Qgp3WIei"
   },
   "source": [
    "**Q: ¿Hay algún hashtag que se repite en más de una cuenta? Si es el caso, ¿en cúantas cuentas se repite?** \n",
    "  "
   ]
  },
  {
   "cell_type": "markdown",
   "metadata": {
    "id": "Hz2RduTwWI84"
   },
   "source": [
    "_Respuesta:_"
   ]
  }
 ],
 "metadata": {
  "colab": {
   "collapsed_sections": [
    "ZYIvtVsuFTrD"
   ],
   "name": "CyPD_PEC3_2020_1.ipynb",
   "provenance": []
  },
  "kernelspec": {
   "display_name": "data_analytics",
   "language": "python",
   "name": "python3"
  },
  "language_info": {
   "codemirror_mode": {
    "name": "ipython",
    "version": 3
   },
   "file_extension": ".py",
   "mimetype": "text/x-python",
   "name": "python",
   "nbconvert_exporter": "python",
   "pygments_lexer": "ipython3",
   "version": "3.9.15"
  },
  "vscode": {
   "interpreter": {
    "hash": "b824bf52cf534a16238dce884e8fdba8cd1853727e048048d6b0b37b0d718f27"
   }
  }
 },
 "nbformat": 4,
 "nbformat_minor": 1
}
