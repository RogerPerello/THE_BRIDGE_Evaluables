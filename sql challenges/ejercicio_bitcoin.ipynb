{
 "cells": [
  {
   "cell_type": "code",
   "execution_count": 1,
   "metadata": {},
   "outputs": [],
   "source": [
    "import datetime\n",
    "import random\n",
    "import pandas as pd\n",
    "import matplotlib.pyplot as plt\n",
    "import seaborn as sns\n",
    "import sqlite3\n",
    "from datetime import timedelta\n"
   ]
  },
  {
   "cell_type": "markdown",
   "metadata": {},
   "source": [
    "# Creación del dataframe"
   ]
  },
  {
   "cell_type": "markdown",
   "metadata": {},
   "source": [
    "Hemos perdido el .txt por no poder completar el ejercicio en clase, ya que tuvimos varios problemas. Por tanto, creamos una dataframe con números aleatorios que simula lo que sería el resultado de transformar ese archivo"
   ]
  },
  {
   "cell_type": "code",
   "execution_count": 2,
   "metadata": {},
   "outputs": [],
   "source": [
    "now = datetime.datetime.now()\n",
    "\n",
    "times_list = []\n",
    "euros_list = []\n",
    "for i in range(30):\n",
    "    now = now + timedelta(minutes=1)\n",
    "    current_time = now.strftime('%b %d, %Y %H:%M:%S') + ' UTC'\n",
    "    times_list.append(current_time)\n",
    "    number = random.uniform(10000,40000)\n",
    "    euros_list.append(number)\n",
    "\n",
    "df_money = {'timestamp': times_list,\n",
    "            'bpi':euros_list\n",
    "            }\n",
    "\n",
    "df_money = pd.DataFrame(df_money)\n"
   ]
  },
  {
   "cell_type": "code",
   "execution_count": 3,
   "metadata": {},
   "outputs": [
    {
     "data": {
      "text/html": [
       "<div>\n",
       "<style scoped>\n",
       "    .dataframe tbody tr th:only-of-type {\n",
       "        vertical-align: middle;\n",
       "    }\n",
       "\n",
       "    .dataframe tbody tr th {\n",
       "        vertical-align: top;\n",
       "    }\n",
       "\n",
       "    .dataframe thead th {\n",
       "        text-align: right;\n",
       "    }\n",
       "</style>\n",
       "<table border=\"1\" class=\"dataframe\">\n",
       "  <thead>\n",
       "    <tr style=\"text-align: right;\">\n",
       "      <th></th>\n",
       "      <th>timestamp</th>\n",
       "      <th>bpi</th>\n",
       "    </tr>\n",
       "  </thead>\n",
       "  <tbody>\n",
       "    <tr>\n",
       "      <th>0</th>\n",
       "      <td>Dec 02, 2022 21:40:43 UTC</td>\n",
       "      <td>23145.014126</td>\n",
       "    </tr>\n",
       "    <tr>\n",
       "      <th>1</th>\n",
       "      <td>Dec 02, 2022 21:41:43 UTC</td>\n",
       "      <td>11023.752396</td>\n",
       "    </tr>\n",
       "    <tr>\n",
       "      <th>2</th>\n",
       "      <td>Dec 02, 2022 21:42:43 UTC</td>\n",
       "      <td>39705.276209</td>\n",
       "    </tr>\n",
       "    <tr>\n",
       "      <th>3</th>\n",
       "      <td>Dec 02, 2022 21:43:43 UTC</td>\n",
       "      <td>36575.135352</td>\n",
       "    </tr>\n",
       "    <tr>\n",
       "      <th>4</th>\n",
       "      <td>Dec 02, 2022 21:44:43 UTC</td>\n",
       "      <td>24984.219707</td>\n",
       "    </tr>\n",
       "  </tbody>\n",
       "</table>\n",
       "</div>"
      ],
      "text/plain": [
       "                   timestamp           bpi\n",
       "0  Dec 02, 2022 21:40:43 UTC  23145.014126\n",
       "1  Dec 02, 2022 21:41:43 UTC  11023.752396\n",
       "2  Dec 02, 2022 21:42:43 UTC  39705.276209\n",
       "3  Dec 02, 2022 21:43:43 UTC  36575.135352\n",
       "4  Dec 02, 2022 21:44:43 UTC  24984.219707"
      ]
     },
     "execution_count": 3,
     "metadata": {},
     "output_type": "execute_result"
    }
   ],
   "source": [
    "df_money.head()\n"
   ]
  },
  {
   "cell_type": "markdown",
   "metadata": {},
   "source": [
    "# Conversión del dataframe a tabla de sql"
   ]
  },
  {
   "cell_type": "markdown",
   "metadata": {},
   "source": [
    "Realizamos la conexión. Como no hay base de datos a la que conectarse con ese nombre, nos la hace"
   ]
  },
  {
   "cell_type": "code",
   "execution_count": 4,
   "metadata": {},
   "outputs": [],
   "source": [
    "conn = sqlite3.connect('base_de_datos.db')\n"
   ]
  },
  {
   "cell_type": "markdown",
   "metadata": {},
   "source": [
    "Creamos el comando, o cursor"
   ]
  },
  {
   "cell_type": "code",
   "execution_count": 5,
   "metadata": {},
   "outputs": [],
   "source": [
    "cursor = conn.cursor()\n"
   ]
  },
  {
   "cell_type": "markdown",
   "metadata": {},
   "source": [
    "Creamos la tabla"
   ]
  },
  {
   "cell_type": "code",
   "execution_count": 6,
   "metadata": {},
   "outputs": [
    {
     "data": {
      "text/plain": [
       "<sqlite3.Cursor at 0x23290ed3420>"
      ]
     },
     "execution_count": 6,
     "metadata": {},
     "output_type": "execute_result"
    }
   ],
   "source": [
    "q = '''CREATE TABLE IF NOT EXISTS money\n",
    "(fecha TIME,\n",
    "bpi FLOAT\n",
    ")\n",
    "'''\n",
    "\n",
    "cursor.execute(q)\n"
   ]
  },
  {
   "cell_type": "markdown",
   "metadata": {},
   "source": [
    "Creamos una lista de tuplas con los valores del dataframe. Cada tupla es una fecha con su rate correspondiente"
   ]
  },
  {
   "cell_type": "code",
   "execution_count": 7,
   "metadata": {},
   "outputs": [
    {
     "data": {
      "text/plain": [
       "[('Dec 02, 2022 21:40:43 UTC', 23145.014126209444),\n",
       " ('Dec 02, 2022 21:41:43 UTC', 11023.752396165975),\n",
       " ('Dec 02, 2022 21:42:43 UTC', 39705.27620939177),\n",
       " ('Dec 02, 2022 21:43:43 UTC', 36575.135352034595),\n",
       " ('Dec 02, 2022 21:44:43 UTC', 24984.21970662855),\n",
       " ('Dec 02, 2022 21:45:43 UTC', 24659.059852044615),\n",
       " ('Dec 02, 2022 21:46:43 UTC', 38862.30239969262),\n",
       " ('Dec 02, 2022 21:47:43 UTC', 13110.061894911667),\n",
       " ('Dec 02, 2022 21:48:43 UTC', 39372.80327871817),\n",
       " ('Dec 02, 2022 21:49:43 UTC', 27727.6002659869),\n",
       " ('Dec 02, 2022 21:50:43 UTC', 20785.834426320238),\n",
       " ('Dec 02, 2022 21:51:43 UTC', 23737.223397738617),\n",
       " ('Dec 02, 2022 21:52:43 UTC', 13104.612672040581),\n",
       " ('Dec 02, 2022 21:53:43 UTC', 17151.32017757304),\n",
       " ('Dec 02, 2022 21:54:43 UTC', 35973.84985155816),\n",
       " ('Dec 02, 2022 21:55:43 UTC', 27058.449786553098),\n",
       " ('Dec 02, 2022 21:56:43 UTC', 28589.800529166223),\n",
       " ('Dec 02, 2022 21:57:43 UTC', 32214.001926628203),\n",
       " ('Dec 02, 2022 21:58:43 UTC', 25185.356181147683),\n",
       " ('Dec 02, 2022 21:59:43 UTC', 31832.04202395417),\n",
       " ('Dec 02, 2022 22:00:43 UTC', 28315.709549309824),\n",
       " ('Dec 02, 2022 22:01:43 UTC', 16690.583091529097),\n",
       " ('Dec 02, 2022 22:02:43 UTC', 10963.861632225378),\n",
       " ('Dec 02, 2022 22:03:43 UTC', 11658.002197919144),\n",
       " ('Dec 02, 2022 22:04:43 UTC', 31632.34213825585),\n",
       " ('Dec 02, 2022 22:05:43 UTC', 29964.265417529332),\n",
       " ('Dec 02, 2022 22:06:43 UTC', 15965.958393261622),\n",
       " ('Dec 02, 2022 22:07:43 UTC', 35298.966598541825),\n",
       " ('Dec 02, 2022 22:08:43 UTC', 22246.604035756733),\n",
       " ('Dec 02, 2022 22:09:43 UTC', 28074.16374434204)]"
      ]
     },
     "execution_count": 7,
     "metadata": {},
     "output_type": "execute_result"
    }
   ],
   "source": [
    "my_var = list(zip(df_money['timestamp'], df_money['bpi']))\n",
    "\n",
    "my_var\n"
   ]
  },
  {
   "cell_type": "markdown",
   "metadata": {},
   "source": [
    "Mediante executemany y con nuestra lista de tuplas, metemos todos los valores de las columnas de nuestro dataframe (df_money) a las respectivas de la tabla (money) que hemos creado (timestamp -> fecha, bpi -> bpi)"
   ]
  },
  {
   "cell_type": "code",
   "execution_count": 8,
   "metadata": {},
   "outputs": [],
   "source": [
    "q = '''\n",
    "INSERT INTO money\n",
    "(fecha, bpi)\n",
    "VALUES (?, ?)\n",
    "'''\n",
    "\n",
    "# Ambos son necesarios siempre al hacer una query, tanto el execute como el commit\n",
    "cursor.executemany(q, my_var)\n",
    "conn.commit()\n"
   ]
  },
  {
   "cell_type": "markdown",
   "metadata": {},
   "source": [
    "Alternativa pobre (no vas metiendo los datos uno a uno, así que no es práctico si hay que hacerlo periódicamente) pero rápida, con la base de datos creada (que no la tabla)"
   ]
  },
  {
   "cell_type": "code",
   "execution_count": 9,
   "metadata": {},
   "outputs": [],
   "source": [
    "# df_money.to_sql('money', conn)\n"
   ]
  },
  {
   "cell_type": "markdown",
   "metadata": {},
   "source": [
    "Sea cual sea la opción elegida, cerramos al terminar"
   ]
  },
  {
   "cell_type": "code",
   "execution_count": 10,
   "metadata": {},
   "outputs": [],
   "source": [
    "conn.close()\n"
   ]
  },
  {
   "cell_type": "markdown",
   "metadata": {},
   "source": [
    "# Gráfico de precio vs tiempo"
   ]
  },
  {
   "cell_type": "code",
   "execution_count": 11,
   "metadata": {},
   "outputs": [
    {
     "data": {
      "text/html": [
       "<div>\n",
       "<style scoped>\n",
       "    .dataframe tbody tr th:only-of-type {\n",
       "        vertical-align: middle;\n",
       "    }\n",
       "\n",
       "    .dataframe tbody tr th {\n",
       "        vertical-align: top;\n",
       "    }\n",
       "\n",
       "    .dataframe thead th {\n",
       "        text-align: right;\n",
       "    }\n",
       "</style>\n",
       "<table border=\"1\" class=\"dataframe\">\n",
       "  <thead>\n",
       "    <tr style=\"text-align: right;\">\n",
       "      <th></th>\n",
       "      <th>timestamp</th>\n",
       "      <th>bpi</th>\n",
       "    </tr>\n",
       "  </thead>\n",
       "  <tbody>\n",
       "    <tr>\n",
       "      <th>0</th>\n",
       "      <td>Dec 02, 2022 21:40:43 UTC</td>\n",
       "      <td>23145.014126</td>\n",
       "    </tr>\n",
       "    <tr>\n",
       "      <th>1</th>\n",
       "      <td>Dec 02, 2022 21:41:43 UTC</td>\n",
       "      <td>11023.752396</td>\n",
       "    </tr>\n",
       "    <tr>\n",
       "      <th>2</th>\n",
       "      <td>Dec 02, 2022 21:42:43 UTC</td>\n",
       "      <td>39705.276209</td>\n",
       "    </tr>\n",
       "    <tr>\n",
       "      <th>3</th>\n",
       "      <td>Dec 02, 2022 21:43:43 UTC</td>\n",
       "      <td>36575.135352</td>\n",
       "    </tr>\n",
       "    <tr>\n",
       "      <th>4</th>\n",
       "      <td>Dec 02, 2022 21:44:43 UTC</td>\n",
       "      <td>24984.219707</td>\n",
       "    </tr>\n",
       "  </tbody>\n",
       "</table>\n",
       "</div>"
      ],
      "text/plain": [
       "                   timestamp           bpi\n",
       "0  Dec 02, 2022 21:40:43 UTC  23145.014126\n",
       "1  Dec 02, 2022 21:41:43 UTC  11023.752396\n",
       "2  Dec 02, 2022 21:42:43 UTC  39705.276209\n",
       "3  Dec 02, 2022 21:43:43 UTC  36575.135352\n",
       "4  Dec 02, 2022 21:44:43 UTC  24984.219707"
      ]
     },
     "execution_count": 11,
     "metadata": {},
     "output_type": "execute_result"
    }
   ],
   "source": [
    "df_money.head()\n"
   ]
  },
  {
   "cell_type": "code",
   "execution_count": 12,
   "metadata": {},
   "outputs": [
    {
     "data": {
      "image/png": "[encoded data removed]",
      "text/plain": [
       "<Figure size 640x480 with 1 Axes>"
      ]
     },
     "metadata": {},
     "output_type": "display_data"
    }
   ],
   "source": [
    "df_money['timestamp'] = df_money['timestamp'].apply(lambda x: x.split()[3])\n",
    "df_money['timestamp'] = pd.to_datetime(df_money['timestamp'])\n",
    "df_money.set_index(df_money['timestamp'], inplace=True)\n",
    "df_money.drop(columns='timestamp', inplace=True)\n",
    "sns.lineplot(df_money, legend=False)\n",
    "plt.ylabel(ylabel='Rate')\n",
    "plt.xlabel(xlabel='Date and time')\n",
    "plt.title('Bitcoin rate per minute (EUR)')\n",
    "plt.tick_params(axis='x', labelrotation = 45)\n",
    "plt.show()\n"
   ]
  }
 ],
 "metadata": {
  "kernelspec": {
   "display_name": "Python 3.9.15 ('data_analytics')",
   "language": "python",
   "name": "python3"
  },
  "language_info": {
   "codemirror_mode": {
    "name": "ipython",
    "version": 3
   },
   "file_extension": ".py",
   "mimetype": "text/x-python",
   "name": "python",
   "nbconvert_exporter": "python",
   "pygments_lexer": "ipython3",
   "version": "3.9.15"
  },
  "orig_nbformat": 4,
  "vscode": {
   "interpreter": {
    "hash": "b824bf52cf534a16238dce884e8fdba8cd1853727e048048d6b0b37b0d718f27"
   }
  }
 },
 "nbformat": 4,
 "nbformat_minor": 2
}
